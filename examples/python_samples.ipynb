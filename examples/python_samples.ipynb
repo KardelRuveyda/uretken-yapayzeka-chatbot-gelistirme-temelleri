{
 "cells": [
  {
   "cell_type": "markdown",
   "id": "985a69ff-869c-44f0-858a-8d70a6635bdd",
   "metadata": {},
   "source": [
    "### Hemen hemen projelerin hepsinde ilk defa yazılan o terim!"
   ]
  },
  {
   "cell_type": "code",
   "execution_count": 1,
   "id": "5906902e",
   "metadata": {},
   "outputs": [
    {
     "name": "stdout",
     "output_type": "stream",
     "text": [
      "Merhaba Dünya!\n"
     ]
    }
   ],
   "source": [
    "print(\"Merhaba Dünya!\")"
   ]
  },
  {
   "cell_type": "markdown",
   "id": "bb954896-5dbd-4870-9388-9c85a168b273",
   "metadata": {},
   "source": [
    "## Temel Kavramlar\n",
    "\n",
    "### Değişkenler\n",
    "\n",
    "Değişkenler, verileri sakladığımız isimlendirilmiş kutular gibidir. Python'da bir değişkene değer atmaak için \"=\" operatörünü kullanırız. \n",
    "\n",
    "### Sıkça Kullanılan Veri Tipleri\n",
    "\n",
    "- Sayılar(int,float ) : Tam sayı ( int ) veya ondalıklı sayılar ( float ) için kullanımlar bulunmaktadır.\n",
    "- Metin(string) : Karakter dizilerini temsil eden ve tırnak içinde yazılan alanlardır.\n",
    "- Boolean(bool ) : Mantıksal doğru/yanlış değerlerdir.\n",
    "- Liste(list) : Birden fazla değeri sıralı olarak tutmaya yaramaktadır. Çoğunlukla [..] gösterilen bir formatı bulunmaktadır. Yeni eleman eklemek veya bir eleman çıkarmak vs mümkündür. \n",
    "- Tuple :  Listelere benzer fakat değiştirilemez(immutable ) veri tipleridir. (...)\n",
    "- Sözlük(dict) : Key-Value çiftleri tutmaya yarar.\n",
    "- Küme(set) : Eşsiz(Unique) değerler kümesidir. Süslü parantez veya set() fonksiyonu ile oluşturulabilirler. "
   ]
  },
  {
   "cell_type": "code",
   "execution_count": 2,
   "id": "553f0abf-46c4-43e8-8dab-cbc8ae5cbf52",
   "metadata": {},
   "outputs": [
    {
     "name": "stdout",
     "output_type": "stream",
     "text": [
      "10 nin tipi: <class 'int'>\n",
      "2.5 nin tipi: <class 'int'>\n",
      "Ali isim değişkenin uzunluğu 3\n",
      "Listede ikinci eleman: 2\n",
      "Sözlükteki ad : Kardel\n",
      "Kümenin elemanları: {1, 2, 3}\n"
     ]
    }
   ],
   "source": [
    "# Değişken ve veri tipi kullanımları\n",
    "x = 10     #int değerdir. \n",
    "y = 2.5    # ondalık sayı float değeridir. \n",
    "name  = \"Ali\"    #string değerdir. \n",
    "isStudent = True   #bool bir değer \n",
    "numbers = [1,2,3]   #bu bir listedir. \n",
    "colors = (\"red\",\"green\",\"black\") #tuple değeridir. \n",
    "information = {\"name\" :\"Kardel\", \"surname\" : \"Cetin\" } #key-value değerini gösterdiğim kısımdır.\n",
    "numbers_set = {1,2,3}  #kumeleri gösterdiğim kısımdır. \n",
    "\n",
    "\n",
    "print(x, \"nin tipi:\", type(x))\n",
    "print(y, \"nin tipi:\", type(x))\n",
    "print(name, \"isim değişkenin uzunluğu\", len(name))\n",
    "print(\"Listede ikinci eleman:\",numbers[1])\n",
    "print(\"Sözlükteki ad :\",information[\"name\"])\n",
    "print(\"Kümenin elemanları:\", numbers_set)"
   ]
  },
  {
   "cell_type": "markdown",
   "id": "9f389120-cf2c-4e86-a47e-364640bc88d1",
   "metadata": {},
   "source": [
    "## Kullanıcı Girdisi ( input ) ve Çıktı ( Print ) işlemlerinin detaylandırılması\n"
   ]
  },
  {
   "cell_type": "code",
   "execution_count": 3,
   "id": "5b8cac56-ef83-44e1-a85b-d0d1603ec997",
   "metadata": {},
   "outputs": [
    {
     "name": "stdout",
     "output_type": "stream",
     "text": [
      "Merhaba  - Soyadınız: \n"
     ]
    }
   ],
   "source": [
    "## Alıştırma 1\n",
    "name = input(\"Adınız:\")    #kullanıcıdan bir metin girişi istiyorum. ( ad ) \n",
    "surname= input(\"Soyadınız:\") #kullanıcıdan bir metin giriş daha istiyorum. ( soyad ) \n",
    "print(\"Merhaba\", name, \"- Soyadınız:\" ,surname)"
   ]
  },
  {
   "cell_type": "code",
   "execution_count": 4,
   "id": "29efdc57-53dd-4f4e-8857-c01ca5942d40",
   "metadata": {},
   "outputs": [
    {
     "name": "stdout",
     "output_type": "stream",
     "text": [
      "Toplam: 12\n"
     ]
    }
   ],
   "source": [
    "## Alıştırma 2\n",
    "\n",
    "sum = 5+7\n",
    "print(\"Toplam:\", sum)"
   ]
  },
  {
   "cell_type": "code",
   "execution_count": 5,
   "id": "1ecae5a6-dd03-40e8-b592-78ffec1603ea",
   "metadata": {},
   "outputs": [
    {
     "name": "stdout",
     "output_type": "stream",
     "text": [
      "İstanbul\n"
     ]
    }
   ],
   "source": [
    "## Alıştırma 3 \n",
    "\n",
    "cities = [\"Ankara\",\"İstanbul\",\"İzmir\"]\n",
    "\n",
    "## bBu listeden ikinci şehri ekrana yazdırın. \n",
    "print(cities[1])\n",
    "          "
   ]
  },
  {
   "cell_type": "markdown",
   "id": "29a3cd0a-1f88-410d-a128-b338c685f0ad",
   "metadata": {},
   "source": [
    "## Koşullu İfadeler \n",
    "\n",
    "- Koşullu ifadeleri oluşturmak için \"if\" anahtar kelimesini kulalnırız.\n",
    "- Koşul sağlanmıyorsa başka bir koşulu kontrol etmek için \"elif\" (else - if ifadesini kullanabilriiz.)\n",
    "- Şayet hiçbir koşul sağlamıyorsa o zaman \"else\" bloğunu ekleyebiliriz.\n"
   ]
  },
  {
   "cell_type": "code",
   "execution_count": 6,
   "id": "a97e522a-0352-47f1-b9ca-2a1182784e3b",
   "metadata": {},
   "outputs": [
    {
     "name": "stdout",
     "output_type": "stream",
     "text": [
      "Pozitif Sayı\n"
     ]
    }
   ],
   "source": [
    "## Alıştırma 1\n",
    "\n",
    "number = 10\n",
    "\n",
    "if number > 0 :\n",
    "    print(\"Pozitif Sayı\")\n",
    "elif number == 0 :\n",
    "    print(\"Sayı sıfırdır.\")\n",
    "else:\n",
    "    print(\"Negatif sayıdır.\")\n",
    "    "
   ]
  },
  {
   "cell_type": "code",
   "execution_count": 7,
   "id": "3d134178-13f8-4612-aff2-511db212ad85",
   "metadata": {},
   "outputs": [
    {
     "name": "stdout",
     "output_type": "stream",
     "text": [
      "Kargo ücretsizdir.\n"
     ]
    }
   ],
   "source": [
    "## Alıştırma 2\n",
    "\n",
    "cost = 120\n",
    "\n",
    "if cost > 100: \n",
    "    print(\"Kargo ücretsizdir.\")\n",
    "else: \n",
    "    print(\"Kargo ücreti uygulanır.\")\n"
   ]
  },
  {
   "cell_type": "code",
   "execution_count": 8,
   "id": "5d402a4a-c3a8-4555-a93d-33fffa6e9cb9",
   "metadata": {},
   "outputs": [
    {
     "ename": "ValueError",
     "evalue": "invalid literal for int() with base 10: ''",
     "output_type": "error",
     "traceback": [
      "\u001b[0;31m---------------------------------------------------------------------------\u001b[0m",
      "\u001b[0;31mValueError\u001b[0m                                Traceback (most recent call last)",
      "Cell \u001b[0;32mIn[8], line 3\u001b[0m\n\u001b[1;32m      1\u001b[0m \u001b[38;5;66;03m## Alıştırma 3\u001b[39;00m\n\u001b[0;32m----> 3\u001b[0m number \u001b[38;5;241m=\u001b[39m \u001b[38;5;28;43mint\u001b[39;49m\u001b[43m(\u001b[49m\u001b[38;5;28;43minput\u001b[39;49m\u001b[43m(\u001b[49m\u001b[38;5;124;43m\"\u001b[39;49m\u001b[38;5;124;43mBir sayı girin:\u001b[39;49m\u001b[38;5;124;43m\"\u001b[39;49m\u001b[43m)\u001b[49m\u001b[43m)\u001b[49m\n\u001b[1;32m      5\u001b[0m \u001b[38;5;28;01mif\u001b[39;00m number \u001b[38;5;241m%\u001b[39m \u001b[38;5;241m2\u001b[39m \u001b[38;5;241m==\u001b[39m \u001b[38;5;241m0\u001b[39m:\n\u001b[1;32m      6\u001b[0m     \u001b[38;5;28mprint\u001b[39m(\u001b[38;5;124m\"\u001b[39m\u001b[38;5;124mGirilen sayı çifttir.\u001b[39m\u001b[38;5;124m\"\u001b[39m)\n",
      "\u001b[0;31mValueError\u001b[0m: invalid literal for int() with base 10: ''"
     ]
    }
   ],
   "source": [
    "## Alıştırma 3\n",
    "\n",
    "number = int(input(\"Bir sayı girin:\"))\n",
    "\n",
    "if number % 2 == 0:\n",
    "    print(\"Girilen sayı çifttir.\")\n",
    "else: \n",
    "    print(\"Girilen sayı tektir.\")\n",
    "\n",
    "## inputtan gelen değer integer mı yoksa string mi?\n",
    "print(number, \"nin tipi:\", type(number))\n"
   ]
  },
  {
   "cell_type": "markdown",
   "id": "009d6cde-99ef-4187-b1a2-04a6caca4359",
   "metadata": {},
   "source": [
    "## Döngüler\n",
    "\n",
    "- For Döngüsü: belirli bir koleksiyonun ( örneğin bir liste ) elamanları üzernde veya belirli bir aralıktaki sayılar üzerinde yineleme yapmak için kullanılmaktadır.\n",
    "- While Döngüsü : Verilen bir koşul \"True\" olduğu sürece çalışmaya devam eder. Koşul false olduğunda da döngü biter.\n",
    "\n"
   ]
  },
  {
   "cell_type": "code",
   "execution_count": null,
   "id": "b1850d10-3b0c-4508-a69c-41a02cd03d19",
   "metadata": {},
   "outputs": [
    {
     "name": "stdout",
     "output_type": "stream",
     "text": [
      "1\n",
      "2\n",
      "3\n",
      "4\n",
      "5\n"
     ]
    }
   ],
   "source": [
    "## Alıştırma 1 1'den 5ê kadar olan sayıları ekrana yazdıran bir for döngüsü örneği yazalım \n",
    "\n",
    "for i in range(1,6):\n",
    "    print(i)"
   ]
  },
  {
   "cell_type": "code",
   "execution_count": null,
   "id": "004a1865-c7f8-4346-a530-3401381e3f08",
   "metadata": {},
   "outputs": [
    {
     "name": "stdout",
     "output_type": "stream",
     "text": [
      "Fruit: apple\n",
      "Fruit: banana\n",
      "Fruit: watermelon\n"
     ]
    }
   ],
   "source": [
    "## Alıştırma 2\n",
    "\n",
    "fruits = [\"apple\",\"banana\",\"watermelon\"]\n",
    "for fruit in fruits: \n",
    "    print(\"Fruit:\", fruit)"
   ]
  },
  {
   "cell_type": "code",
   "execution_count": null,
   "id": "169b0daa-8c02-4831-a7fa-4de7ce5e0357",
   "metadata": {},
   "outputs": [
    {
     "name": "stdout",
     "output_type": "stream",
     "text": [
      "1\n",
      "2\n",
      "3\n",
      "4\n",
      "5\n"
     ]
    }
   ],
   "source": [
    "## Alıştırma 3 : 1 'den 5'e kadar  sayıları while ile yazdıralım. \n",
    "\n",
    "i = 1\n",
    "while i<=5:\n",
    "    print(i)\n",
    "    i +=1  # i'yi her seferinde 1 arttır. \n",
    "\n"
   ]
  },
  {
   "cell_type": "code",
   "execution_count": null,
   "id": "91e08b1b-e8d7-497e-a271-d17443d80765",
   "metadata": {},
   "outputs": [],
   "source": [
    "# break: Bir döngüyü anında sonlandırmak için kullanılır. \n",
    "# continue: o anki döngü turunu sonlandırıp bir sonraki tura geçmek için kullanılır. ( Döngü devam eder fakat alttaki kodlar atlanır. ) \n"
   ]
  },
  {
   "cell_type": "code",
   "execution_count": null,
   "id": "a0606aeb-5fbf-415b-ac2a-d03b329263e0",
   "metadata": {},
   "outputs": [
    {
     "name": "stdout",
     "output_type": "stream",
     "text": [
      "1\n",
      "2\n",
      "3\n",
      "4\n"
     ]
    }
   ],
   "source": [
    "## Alıştırma 4 \n",
    "for i in range(1,11):\n",
    "    if i == 5:\n",
    "        break #5 olduğunda artık döngüden çık. \n",
    "    print(i)"
   ]
  },
  {
   "cell_type": "code",
   "execution_count": null,
   "id": "6e9c0fcb-db31-494e-8d97-4595395f4dc2",
   "metadata": {},
   "outputs": [
    {
     "name": "stdout",
     "output_type": "stream",
     "text": [
      "N değerini giriniz:  5\n"
     ]
    },
    {
     "name": "stdout",
     "output_type": "stream",
     "text": [
      "1'den 5 sayısına kadar toplam: 15\n"
     ]
    }
   ],
   "source": [
    "## Alıştırma 5\n",
    "## Gerçek Dünya Örneği: Bir kullanıcı giriş sisteminde while döngüsü kullanarak 3 deneme hakkı verilsin. Kulalnıcıyı doğru şifreyi girene kadar veya 3 hatalı deneme yapana kadar döngü devam etsin. Her hatalı girişte bir hakkı düşsün .\n",
    "# Doğru girdiğinde de \"break\" ile döngüden çıksın. Bu şekilde sınırlı sayı deneme ile kullanıcı girişi kontrolü gerçekleştirmek mümkün olsun .\n",
    "\n",
    "# Kullanıcıdan bir pozitif \"N\" sayısını alalım.\n",
    "# 1'den N'e kadar olan sayıların toplamını hesaplayıp sonucu ekrana yazdırmam gerekiyor. \n",
    "\n",
    "N = int(input(\"N değerini giriniz: \"))\n",
    "toplam = 0\n",
    "for i in range(1,N+1):\n",
    "    toplam += i\n",
    "print(\"1'den\", N , \"sayısına kadar toplam:\", toplam)\n"
   ]
  },
  {
   "cell_type": "markdown",
   "id": "0733650f-98b1-4f62-9869-29c17a57b822",
   "metadata": {},
   "source": [
    "## Fonksiyonlar\n",
    "\n",
    "- Kodun belli bir görev yapan bölümlerini tekrar tekrar kullanmak istediğimizde , bunu daha modüler hale getirmemiz gerekir. Bu hale getirmek için de \"fonkisyonlar\"ı tanımlarız.\n",
    "- Fonksiyonlar kod tekrarını önler ve programı daha okunaklı kılar. \n"
   ]
  },
  {
   "cell_type": "code",
   "execution_count": null,
   "id": "439a699f-81c0-4a20-a3fd-eaff1815fe3c",
   "metadata": {},
   "outputs": [],
   "source": [
    "## Alıtşırma 1 : Basit bir fonksiyon örneği tanımlayalım. \n",
    "\n",
    "def helloWorld(name):\n",
    "    print(\"Merhaba\",name)"
   ]
  },
  {
   "cell_type": "code",
   "execution_count": null,
   "id": "453da3dc-24e8-4a57-ac25-c87c6934d664",
   "metadata": {},
   "outputs": [
    {
     "name": "stdout",
     "output_type": "stream",
     "text": [
      "Merhaba Kardel\n"
     ]
    }
   ],
   "source": [
    "helloWorld(\"Kardel\")"
   ]
  },
  {
   "cell_type": "code",
   "execution_count": null,
   "id": "9a9242f6-7833-4bde-840d-bbd5f8fc723c",
   "metadata": {},
   "outputs": [
    {
     "name": "stdout",
     "output_type": "stream",
     "text": [
      "25\n"
     ]
    }
   ],
   "source": [
    "## Alıştırma 2 : Bir değer döndüren fonksiyon örneği yapalım. Verieln sayının karesini hesaplayıp sonucu döndüren bir fonksiyon tanımlayalım. \n",
    "\n",
    "def square(x):\n",
    "    return x*x\n",
    "\n",
    "result = square(5)\n",
    "print(result)"
   ]
  },
  {
   "cell_type": "code",
   "execution_count": null,
   "id": "b6e5bcf7-4214-4ebb-92af-819ac92ca8d6",
   "metadata": {},
   "outputs": [],
   "source": [
    "## Alıştırma 3 :  Bir sayının faktöriyelini hesaplayan bir fonksiyon yazalım . ( Faktöriyel 1'den o sayıya kadar olan tüm pozitif sayıların çarpımı olsun. )\n",
    "## Örneğin 5!: 1x2x3x4x5 = 120"
   ]
  },
  {
   "cell_type": "code",
   "execution_count": null,
   "id": "e66fb1da-b9ad-4b0f-a2bb-775e60890992",
   "metadata": {
    "scrolled": true
   },
   "outputs": [
    {
     "name": "stdout",
     "output_type": "stream",
     "text": [
      "120\n"
     ]
    }
   ],
   "source": [
    "def factorial(n):\n",
    "    multiplacation = 1\n",
    "    for i in range(1,n+1):\n",
    "        multiplacation *=i\n",
    "    return multiplacation\n",
    "\n",
    "## Fonksiyonu Test Et\n",
    "print(factorial(5))\n"
   ]
  },
  {
   "cell_type": "markdown",
   "id": "aa7e173c-1e11-491a-a082-5bcacf46978f",
   "metadata": {},
   "source": [
    "## Hata Yönetimi\n",
    "\n",
    "Programlar çalışırken hatalar ortaya çıkabilir. \n",
    "Bir kullanıcı giriş yapsın, internet bağlantısı kopabilir veya dosya bulunamayabilir veya bir sayıyı 0'a bölmeye çalışırsınız ama bölünemez bir durumdadır. Hata alma ihtimali olabilir. Burada hatayı yönetmek ve düzgün cevaplar verebilmek önemldiir. \n",
    "\n",
    "- Python'da hata yönetimi için try/except yapısını kullanırız. Hata oluşabileceğini düşündüğümüz kodları \"try\" bloğu içerisine koyarız. Yakalamak istediğimiz hata türlerini ise \"except\" bloklarıyla belirtiriz.\n",
    "- Bazı durumlarda birden fazla \"except\" bloğu da tanımlanabilir. "
   ]
  },
  {
   "cell_type": "code",
   "execution_count": null,
   "id": "8dfc2a19-f334-4a9c-83dc-09b428230cf9",
   "metadata": {},
   "outputs": [
    {
     "name": "stdout",
     "output_type": "stream",
     "text": [
      "Bir sayı giriniz. 5\n"
     ]
    },
    {
     "name": "stdout",
     "output_type": "stream",
     "text": [
      "Girilen sayının karesi: 25\n"
     ]
    }
   ],
   "source": [
    "## Alıştırma 1\n",
    "try:\n",
    "    s = int(input(\"Bir sayı giriniz.\"))\n",
    "    print(\"Girilen sayının karesi:\",s*s)\n",
    "except ValueError:\n",
    "    print(\"Geçerli bir sayı girmediniz.\")"
   ]
  },
  {
   "cell_type": "code",
   "execution_count": null,
   "id": "fe536f1b-1ced-41c4-a4b2-0af92081f27a",
   "metadata": {},
   "outputs": [
    {
     "name": "stdout",
     "output_type": "stream",
     "text": [
      "1. sayı:  kardel\n"
     ]
    },
    {
     "name": "stdout",
     "output_type": "stream",
     "text": [
      "Lütfen sayıları düzgün giriniz.\n"
     ]
    }
   ],
   "source": [
    "##### Alıştırma 2 \n",
    "\n",
    "try: \n",
    "    a= int(input(\"1. sayı: \"))\n",
    "    b= int(input(\"2. sayı:\"))\n",
    "\n",
    "    result = a/b\n",
    "    print(\"Bölme sonucu:\", result)\n",
    "\n",
    "except ValueError:\n",
    "    print(\"Lütfen sayıları düzgün giriniz.\")\n",
    "except ZeroDivisionError : \n",
    "    print(\"Bir sayıyı 0'a bölemezsiniz!!\")"
   ]
  },
  {
   "cell_type": "code",
   "execution_count": null,
   "id": "0a201bc9-825f-4f50-9eb5-2a7f7dced0f9",
   "metadata": {},
   "outputs": [],
   "source": []
  }
 ],
 "metadata": {
  "kernelspec": {
   "display_name": "Python 3",
   "language": "python",
   "name": "python3"
  },
  "language_info": {
   "codemirror_mode": {
    "name": "ipython",
    "version": 3
   },
   "file_extension": ".py",
   "mimetype": "text/x-python",
   "name": "python",
   "nbconvert_exporter": "python",
   "pygments_lexer": "ipython3",
   "version": "3.9.6"
  }
 },
 "nbformat": 4,
 "nbformat_minor": 5
}
