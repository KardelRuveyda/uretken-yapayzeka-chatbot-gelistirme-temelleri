{
 "cells": [
  {
   "cell_type": "markdown",
   "metadata": {},
   "source": [
    "## PDF Yüklemesinin Gerçekleştirilmesi"
   ]
  },
  {
   "cell_type": "code",
   "execution_count": 67,
   "metadata": {},
   "outputs": [
    {
     "data": {
      "text/plain": [
       "298"
      ]
     },
     "execution_count": 67,
     "metadata": {},
     "output_type": "execute_result"
    }
   ],
   "source": [
    "from langchain_community.document_loaders import PyPDFLoader\n",
    "\n",
    "loader = PyPDFLoader(\"calikusu.pdf\")\n",
    "data = loader.load()\n",
    "\n",
    "len(data)"
   ]
  },
  {
   "cell_type": "markdown",
   "metadata": {},
   "source": [
    "## Veriyi parçalara ayırma(Chunking İşlemi)"
   ]
  },
  {
   "cell_type": "code",
   "execution_count": 68,
   "metadata": {},
   "outputs": [
    {
     "name": "stdout",
     "output_type": "stream",
     "text": [
      "Total 935\n"
     ]
    }
   ],
   "source": [
    "from langchain_text_splitters import RecursiveCharacterTextSplitter\n",
    "\n",
    "## Chunk_Size 1000 demek her parçanın maksimum 1000 karakter uzunluğunda olacağını belirtir.\n",
    "text_splitter = RecursiveCharacterTextSplitter(chunk_size=1000)\n",
    "docs = text_splitter.split_documents(data)\n",
    "\n",
    "print(\"Total\",len(docs))"
   ]
  },
  {
   "cell_type": "code",
   "execution_count": 69,
   "metadata": {},
   "outputs": [
    {
     "data": {
      "text/plain": [
       "Document(metadata={'producer': 'calibre 1.22.0 [http://calibre-ebook.com]', 'creator': 'calibre 1.22.0 [http://calibre-ebook.com]', 'creationdate': '2018-06-07T15:24:58+00:00', 'author': 'Reşat Nuri Güntekin', 'keywords': 'Roman, Türk Klasik, Cumhuriyet Dönemi', 'title': 'Çalıkuşu', 'source': 'calikusu.pdf', 'total_pages': 298, 'page': 7, 'page_label': '8'}, page_content='BİRİNCİ KISIM\\nDÖRDÜNCÜ sınıftaydım. Yaşı\\nm oniki kadar olmalı. Fransızca muallimimiz Sör Aleksi, bir gün\\nbize yazı vazifesi vermişti. “Hayattaki ilk hatıralarınızı yazmaya çalışın. Bakalım neler bulacaksınız?\\nSizin için güzel bir hayat temini olur,” demişti.\\nHiç unutmam; yaramazlığımdan, gevezeliğimden bıkan öğretmenler, o sınıfta beni arkadaşlarımdan\\nayırmışlar, bir köşede tek kişilik bir küçük sıraya oturtmuşlardı.\\nMüdirenin söylediğine göre, ders esnasında komşularımı lakırdıya tutmamayı, uslu uslu muallimi\\ndinlemeyi öğreninceye kadar orada bir sürgün hayatı geçirmeye mahkûmdum.\\nBir yanımda kocaman bir tahta direk vardır. Ne yapılsa sınıftan çıkarılmasına imkân olmayan ve\\nara sıra çakımın ucuyla ötesine berisine açtığım yaracıklara stoik bir vakarla tahammül eden sessiz\\nsedasız, ağırbaşlı ve upuzun bir komşu.\\nÖte yanımda manastır terbiyesinin istediği serin ve mağrur loşluğu temin için yapılmışa benzeyen')"
      ]
     },
     "execution_count": 69,
     "metadata": {},
     "output_type": "execute_result"
    }
   ],
   "source": [
    "docs[7]"
   ]
  },
  {
   "cell_type": "markdown",
   "metadata": {},
   "source": [
    "## HuggingFace Embeddings'i kullanarak Embedding Oluşturma İşlemi"
   ]
  },
  {
   "cell_type": "code",
   "execution_count": 70,
   "metadata": {},
   "outputs": [],
   "source": [
    "from langchain_chroma import Chroma\n",
    "from dotenv import load_dotenv\n",
    "from langchain_huggingface import HuggingFaceEmbeddings"
   ]
  },
  {
   "cell_type": "code",
   "execution_count": 71,
   "metadata": {},
   "outputs": [
    {
     "data": {
      "text/plain": [
       "True"
      ]
     },
     "execution_count": 71,
     "metadata": {},
     "output_type": "execute_result"
    }
   ],
   "source": [
    "load_dotenv()"
   ]
  },
  {
   "cell_type": "code",
   "execution_count": 72,
   "metadata": {},
   "outputs": [],
   "source": [
    "embeddings = HuggingFaceEmbeddings(model_name=\"sentence-transformers/all-MiniLM-L6-v2\")"
   ]
  },
  {
   "cell_type": "markdown",
   "metadata": {},
   "source": [
    "## ChromaDB Üzerine Kayıt İşlemi"
   ]
  },
  {
   "cell_type": "code",
   "execution_count": 73,
   "metadata": {},
   "outputs": [],
   "source": [
    "vectorstore = Chroma.from_documents(documents=docs, embedding=embeddings)"
   ]
  },
  {
   "cell_type": "code",
   "execution_count": 74,
   "metadata": {},
   "outputs": [],
   "source": [
    "retriever = vectorstore.as_retriever(\n",
    "    search_type=\"similarity\", search_kwargs={\"k\": 10}\n",
    ")"
   ]
  },
  {
   "cell_type": "code",
   "execution_count": 75,
   "metadata": {},
   "outputs": [],
   "source": [
    "retieved_docs = retriever.invoke(\"Feride kimdir?\")"
   ]
  },
  {
   "cell_type": "code",
   "execution_count": 76,
   "metadata": {},
   "outputs": [
    {
     "data": {
      "text/plain": [
       "10"
      ]
     },
     "execution_count": 76,
     "metadata": {},
     "output_type": "execute_result"
    }
   ],
   "source": [
    "len(retieved_docs)"
   ]
  },
  {
   "cell_type": "code",
   "execution_count": 77,
   "metadata": {},
   "outputs": [
    {
     "name": "stdout",
     "output_type": "stream",
     "text": [
      "-Nasıl Feride, doğru mu söylüyorsun? dedi. Ah, zavallı Çalıkuşu!... Hangi rüzgârın seni buraya\n",
      "attığını şimdi anlıyorum.\n",
      "Sımsıkı bileklerimi tutan elleri titriyordu:\n",
      "-Feride, onu çok severdin, değil mi? Saklama küçüğüm, itiraf etmekten kaçınırdın, fakat herkes\n",
      "bunu bilirdi.\n",
      "Kristiyan, uzak bir rüyayı takip eder gibi gözleri dalgın, sesi hareketli devam etti:\n",
      "-Hakkın vardı, onu sevmemek mümkün değildi. Birkaç defa seni görmeye gelmişti O zaman,\n",
      "gördüğümü hatırlıyorum Hiç kimseye benzemeyen bir tavrı vardı. Ne yazık! Sana çok acırım, Feride.\n",
      "Zannederim ki, bir genç kız için sevdiği bir nişanlının ölümünü görmekten büyük felaket olamaz.\n",
      "“Sana çok acırım Feride, bir genç kız için sevdiği bir nişanlının ölümünü görmekten büyük felaket\n",
      "olamaz!” dediği zaman gözlerimi önüme indirerek kapadım: “Doğrusu, hakkın var” dedim. O\n",
      "vaziyette başka ne diyebilirdim? Fakat ben, sana yalan söyledim Kristiyan.\n"
     ]
    }
   ],
   "source": [
    "print(retieved_docs[5].page_content)"
   ]
  },
  {
   "cell_type": "markdown",
   "metadata": {},
   "source": [
    "## HuggingFace API Yapısını Kullanarak LLM Tetikleme İşlemleri\n",
    "\n",
    "- Düşük Değerler (0.1-0.4) : Daha kesin ve daha tutarlı cevaplar verilir. Model daha tamin edilebilir hale gelir. \n",
    "- Orta Değerler (0.5-0.7) : Hem mantıklı hem de yaratıcı cevaplar verilir. \n",
    "- Yüksek Değerler (0.7-1.0): Daha rastgele ve yaratıcı, ancak bazen tutarsız yanıtlar verebilir"
   ]
  },
  {
   "cell_type": "code",
   "execution_count": 78,
   "metadata": {},
   "outputs": [],
   "source": [
    "import os"
   ]
  },
  {
   "cell_type": "code",
   "execution_count": 108,
   "metadata": {},
   "outputs": [],
   "source": [
    "from langchain_community.llms import HuggingFaceHub\n",
    "\n",
    "llm =  HuggingFaceHub(repo_id=\"HuggingFaceH4/zephyr-7b-beta\",model_kwargs ={\"temperature\":0.3, \"max_new_tokens\" :100 },\n",
    "                      huggingfacehub_api_token=os.getenv(\"HUGGINGFACEHUB_API_TOKEN\"))"
   ]
  },
  {
   "cell_type": "code",
   "execution_count": 98,
   "metadata": {},
   "outputs": [],
   "source": [
    "from langchain_core.prompts import ChatPromptTemplate\n",
    "from langchain.chains.combine_documents import create_stuff_documents_chain\n",
    "from langchain.chains import create_retrieval_chain\n"
   ]
  },
  {
   "cell_type": "code",
   "execution_count": 99,
   "metadata": {},
   "outputs": [],
   "source": [
    "system_prompt = (\n",
    "    \"📖 You are a friendly and knowledgeable literary assistant, specialized in *Çalıkuşu*, the novel by Reşat Nuri Güntekin. \"\n",
    "    \"Your task is to provide short yet impactful analyses; to comment on characters, themes, and emotions in a sincere and engaging tone 😊 \"\n",
    "    \"Only talk about this novel 🛑 Do not mention other books. \"\n",
    "    \"Your responses must be in Turkish 🇹🇷 and enrich your explanations with emojis 📌\"\n",
    "    \"\\n\\n\"\n",
    "    \"{context}\"\n",
    ")\n"
   ]
  },
  {
   "cell_type": "code",
   "execution_count": 100,
   "metadata": {},
   "outputs": [],
   "source": [
    "prompt = ChatPromptTemplate.from_messages(\n",
    "    [\n",
    "        (\"system\",system_prompt),\n",
    "        (\"human\",\"{input}\")\n",
    "    ]\n",
    ")"
   ]
  },
  {
   "cell_type": "markdown",
   "metadata": {},
   "source": [
    "## Soru-Cevap Zinciri Oluşturma(LLM+PROMPT)"
   ]
  },
  {
   "cell_type": "code",
   "execution_count": 101,
   "metadata": {},
   "outputs": [],
   "source": [
    "question_answer_chain = create_stuff_documents_chain(llm,prompt)"
   ]
  },
  {
   "cell_type": "markdown",
   "metadata": {},
   "source": [
    "## RAG Zinciri Oluşturma(RAG+LLM Entegrasyonun Gerçekleşmesi)"
   ]
  },
  {
   "cell_type": "code",
   "execution_count": 102,
   "metadata": {},
   "outputs": [],
   "source": [
    "rag_chain = create_retrieval_chain(retriever,question_answer_chain)"
   ]
  },
  {
   "cell_type": "markdown",
   "metadata": {},
   "source": [
    "## Kullanıcı Sorgusunu Çalıştırarak Cevap Üretme İşlemi"
   ]
  },
  {
   "cell_type": "code",
   "execution_count": 103,
   "metadata": {},
   "outputs": [
    {
     "name": "stderr",
     "output_type": "stream",
     "text": [
      "c:\\Users\\ruveyda.cetin\\AppData\\Local\\miniconda3\\envs\\env_langchain\\lib\\site-packages\\huggingface_hub\\utils\\_deprecation.py:131: FutureWarning: 'post' (from 'huggingface_hub.inference._client') is deprecated and will be removed from version '0.31.0'. Making direct POST requests to the inference server is not supported anymore. Please use task methods instead (e.g. `InferenceClient.chat_completion`). If your use case is not supported, please open an issue in https://github.com/huggingface/huggingface_hub.\n",
      "  warnings.warn(warning_message, FutureWarning)\n"
     ]
    }
   ],
   "source": [
    "response = rag_chain.invoke({\"input\":\"Feride kimdir?\"})"
   ]
  },
  {
   "cell_type": "code",
   "execution_count": 104,
   "metadata": {},
   "outputs": [
    {
     "name": "stdout",
     "output_type": "stream",
     "text": [
      "{'input': 'Feride kimdir?', 'context': [Document(id='3a868493-50b0-4c55-b5c0-6e0c2ee81313', metadata={'author': 'Reşat Nuri Güntekin', 'creationdate': '2018-06-07T15:24:58+00:00', 'creator': 'calibre 1.22.0 [http://calibre-ebook.com]', 'keywords': 'Roman, Türk Klasik, Cumhuriyet Dönemi', 'page': 69, 'page_label': '70', 'producer': 'calibre 1.22.0 [http://calibre-ebook.com]', 'source': 'calikusu.pdf', 'title': 'Çalıkuşu', 'total_pages': 298}, page_content='Feride benim. Kadın, hafif heyecanlandı:\\n-Kâmran Bey’le evlenecek Feride Hanım mı?\\n-Köşkte bir tane Feride var hanımefendi, diye gülümsedim.\\nSiyah çarşaflı kadın, birdenbire durmuştu. Biraz evvel kendisini Feride ile görüştürmemi'), Document(id='7fda4e1c-d3b6-462e-a848-fa472fe5cd1e', metadata={'author': 'Reşat Nuri Güntekin', 'creationdate': '2018-06-07T15:24:58+00:00', 'creator': 'calibre 1.22.0 [http://calibre-ebook.com]', 'keywords': 'Roman, Türk Klasik, Cumhuriyet Dönemi', 'page': 69, 'page_label': '70', 'producer': 'calibre 1.22.0 [http://calibre-ebook.com]', 'source': 'calikusu.pdf', 'title': 'Çalıkuşu', 'total_pages': 298}, page_content='Feride benim. Kadın, hafif heyecanlandı:\\n-Kâmran Bey’le evlenecek Feride Hanım mı?\\n-Köşkte bir tane Feride var hanımefendi, diye gülümsedim.\\nSiyah çarşaflı kadın, birdenbire durmuştu. Biraz evvel kendisini Feride ile görüştürmemi'), Document(id='786a870e-6c4c-495e-a25c-1470c5b5adf2', metadata={'author': 'Reşat Nuri Güntekin', 'creationdate': '2018-06-07T15:24:58+00:00', 'creator': 'calibre 1.22.0 [http://calibre-ebook.com]', 'keywords': 'Roman, Türk Klasik, Cumhuriyet Dönemi', 'page': 257, 'page_label': '258', 'producer': 'calibre 1.22.0 [http://calibre-ebook.com]', 'source': 'calikusu.pdf', 'title': 'Çalıkuşu', 'total_pages': 298}, page_content='VI\\nErtesi gün Feride, yine kendi kendine şehre inmişti, ikindiye doğru köşke döndüğü vakit, çok\\nyorgun görünüyordu. Buna rağmen çocukları yine etrafına topladı, arka bahçede kocaman bir kolan\\nsalıncağı kurdu.\\nKâmran, Aziz Bey’in ihtiyar ve geveze bir misafirinden kendini kurtardığı vakit, salıncakta Feride\\nile Necdet vardı. Feride, var kuvvetiyle salıncağı uçuruyor, Necdet çığlıklar atarak bir kedi yavrusu\\ngibi boynuna tırmanıyordu.\\nKâmran, Ayşe Teyze’nin tıpkı on sene evvelki gibi:\\n-Feride, kızım, deliliği bırak, çocuğu düşüreceksin, diye bağırdığını işitti.\\nÇalıkuşu aldırmıyor, bütün ruhuyla eğlenerek cevap veriyordu:\\n-Aman teyze, nenize lâzım, Necdet’in asıl sahibi şikâyet etmiyor ya! Değil mi Kâmran?\\nFeride, çocukların birini bırakıp ötekini alıyor, hepsinin sıra ile gönlünü hoş etmek istiyordu.\\nÇocukların en büyüğü, fakat en korkağı olan Nermin’i ciyak ciyak bağırttıktan sonra salıncaktan'), Document(id='16d33c07-b9b2-47a1-a4ba-13d390704d9c', metadata={'author': 'Reşat Nuri Güntekin', 'creationdate': '2018-06-07T15:24:58+00:00', 'creator': 'calibre 1.22.0 [http://calibre-ebook.com]', 'keywords': 'Roman, Türk Klasik, Cumhuriyet Dönemi', 'page': 257, 'page_label': '258', 'producer': 'calibre 1.22.0 [http://calibre-ebook.com]', 'source': 'calikusu.pdf', 'title': 'Çalıkuşu', 'total_pages': 298}, page_content='VI\\nErtesi gün Feride, yine kendi kendine şehre inmişti, ikindiye doğru köşke döndüğü vakit, çok\\nyorgun görünüyordu. Buna rağmen çocukları yine etrafına topladı, arka bahçede kocaman bir kolan\\nsalıncağı kurdu.\\nKâmran, Aziz Bey’in ihtiyar ve geveze bir misafirinden kendini kurtardığı vakit, salıncakta Feride\\nile Necdet vardı. Feride, var kuvvetiyle salıncağı uçuruyor, Necdet çığlıklar atarak bir kedi yavrusu\\ngibi boynuna tırmanıyordu.\\nKâmran, Ayşe Teyze’nin tıpkı on sene evvelki gibi:\\n-Feride, kızım, deliliği bırak, çocuğu düşüreceksin, diye bağırdığını işitti.\\nÇalıkuşu aldırmıyor, bütün ruhuyla eğlenerek cevap veriyordu:\\n-Aman teyze, nenize lâzım, Necdet’in asıl sahibi şikâyet etmiyor ya! Değil mi Kâmran?\\nFeride, çocukların birini bırakıp ötekini alıyor, hepsinin sıra ile gönlünü hoş etmek istiyordu.\\nÇocukların en büyüğü, fakat en korkağı olan Nermin’i ciyak ciyak bağırttıktan sonra salıncaktan'), Document(id='57b17669-44a8-4b3a-98d0-f1589e443ed3', metadata={'author': 'Reşat Nuri Güntekin', 'creationdate': '2018-06-07T15:24:58+00:00', 'creator': 'calibre 1.22.0 [http://calibre-ebook.com]', 'keywords': 'Roman, Türk Klasik, Cumhuriyet Dönemi', 'page': 154, 'page_label': '155', 'producer': 'calibre 1.22.0 [http://calibre-ebook.com]', 'source': 'calikusu.pdf', 'title': 'Çalıkuşu', 'total_pages': 298}, page_content='-Nasıl Feride, doğru mu söylüyorsun? dedi. Ah, zavallı Çalıkuşu!... Hangi rüzgârın seni buraya\\nattığını şimdi anlıyorum.\\nSımsıkı bileklerimi tutan elleri titriyordu:\\n-Feride, onu çok severdin, değil mi? Saklama küçüğüm, itiraf etmekten kaçınırdın, fakat herkes\\nbunu bilirdi.\\nKristiyan, uzak bir rüyayı takip eder gibi gözleri dalgın, sesi hareketli devam etti:\\n-Hakkın vardı, onu sevmemek mümkün değildi. Birkaç defa seni görmeye gelmişti O zaman,\\ngördüğümü hatırlıyorum Hiç kimseye benzemeyen bir tavrı vardı. Ne yazık! Sana çok acırım, Feride.\\nZannederim ki, bir genç kız için sevdiği bir nişanlının ölümünü görmekten büyük felaket olamaz.\\n“Sana çok acırım Feride, bir genç kız için sevdiği bir nişanlının ölümünü görmekten büyük felaket\\nolamaz!” dediği zaman gözlerimi önüme indirerek kapadım: “Doğrusu, hakkın var” dedim. O\\nvaziyette başka ne diyebilirdim? Fakat ben, sana yalan söyledim Kristiyan.'), Document(id='a4d576ca-2323-41af-9f42-6fe19f14d62b', metadata={'author': 'Reşat Nuri Güntekin', 'creationdate': '2018-06-07T15:24:58+00:00', 'creator': 'calibre 1.22.0 [http://calibre-ebook.com]', 'keywords': 'Roman, Türk Klasik, Cumhuriyet Dönemi', 'page': 154, 'page_label': '155', 'producer': 'calibre 1.22.0 [http://calibre-ebook.com]', 'source': 'calikusu.pdf', 'title': 'Çalıkuşu', 'total_pages': 298}, page_content='-Nasıl Feride, doğru mu söylüyorsun? dedi. Ah, zavallı Çalıkuşu!... Hangi rüzgârın seni buraya\\nattığını şimdi anlıyorum.\\nSımsıkı bileklerimi tutan elleri titriyordu:\\n-Feride, onu çok severdin, değil mi? Saklama küçüğüm, itiraf etmekten kaçınırdın, fakat herkes\\nbunu bilirdi.\\nKristiyan, uzak bir rüyayı takip eder gibi gözleri dalgın, sesi hareketli devam etti:\\n-Hakkın vardı, onu sevmemek mümkün değildi. Birkaç defa seni görmeye gelmişti O zaman,\\ngördüğümü hatırlıyorum Hiç kimseye benzemeyen bir tavrı vardı. Ne yazık! Sana çok acırım, Feride.\\nZannederim ki, bir genç kız için sevdiği bir nişanlının ölümünü görmekten büyük felaket olamaz.\\n“Sana çok acırım Feride, bir genç kız için sevdiği bir nişanlının ölümünü görmekten büyük felaket\\nolamaz!” dediği zaman gözlerimi önüme indirerek kapadım: “Doğrusu, hakkın var” dedim. O\\nvaziyette başka ne diyebilirdim? Fakat ben, sana yalan söyledim Kristiyan.'), Document(id='20a2a3e2-bbfa-4083-8f29-d7b4c4aa916f', metadata={'author': 'Reşat Nuri Güntekin', 'creationdate': '2018-06-07T15:24:58+00:00', 'creator': 'calibre 1.22.0 [http://calibre-ebook.com]', 'keywords': 'Roman, Türk Klasik, Cumhuriyet Dönemi', 'page': 197, 'page_label': '198', 'producer': 'calibre 1.22.0 [http://calibre-ebook.com]', 'source': 'calikusu.pdf', 'title': 'Çalıkuşu', 'total_pages': 298}, page_content='olmayan büyük bir yalnızlık gibi göründü.\\nGecenin rutubeti iliklerime işlemiş gibi titreyerek aşağı indim. Munise kamaranın ranzasında\\nuyuyor. Bu büyük yalnızlığın kalbi vurur gibi ta derinlerden gelen sarsıntılarını dinleyerek defterime\\nyazmaya başladım.\\nBugün müdirem, beni iskeleye kadar getirdi. Bildiklerimden kimseye veda etmedim. Yalnız\\nteyzeme benzeyen büyükhanıma uğradım, gözlerimi kapayarak son bir defa “Feride” diye adımı\\nsöylemesini dinledim.\\nB.’de Mazlum’u bırakmıştım. Burada da kuşlarımdan ayrılmak lâzım geldi. Onları müdireye\\nemanet ettim, yemlerini, sularını unutmayacağına söz verdirdim.\\nMüdire dedi ki:\\n-Feride, madem ki onları bu kadar seviyorsun, kendi elinle azat et, daha sevâb olur.\\nMahzun mahzun gülümsedim:'), Document(id='9b049825-322c-4a2d-92e5-83c4fe7e2e9a', metadata={'author': 'Reşat Nuri Güntekin', 'creationdate': '2018-06-07T15:24:58+00:00', 'creator': 'calibre 1.22.0 [http://calibre-ebook.com]', 'keywords': 'Roman, Türk Klasik, Cumhuriyet Dönemi', 'page': 197, 'page_label': '198', 'producer': 'calibre 1.22.0 [http://calibre-ebook.com]', 'source': 'calikusu.pdf', 'title': 'Çalıkuşu', 'total_pages': 298}, page_content='olmayan büyük bir yalnızlık gibi göründü.\\nGecenin rutubeti iliklerime işlemiş gibi titreyerek aşağı indim. Munise kamaranın ranzasında\\nuyuyor. Bu büyük yalnızlığın kalbi vurur gibi ta derinlerden gelen sarsıntılarını dinleyerek defterime\\nyazmaya başladım.\\nBugün müdirem, beni iskeleye kadar getirdi. Bildiklerimden kimseye veda etmedim. Yalnız\\nteyzeme benzeyen büyükhanıma uğradım, gözlerimi kapayarak son bir defa “Feride” diye adımı\\nsöylemesini dinledim.\\nB.’de Mazlum’u bırakmıştım. Burada da kuşlarımdan ayrılmak lâzım geldi. Onları müdireye\\nemanet ettim, yemlerini, sularını unutmayacağına söz verdirdim.\\nMüdire dedi ki:\\n-Feride, madem ki onları bu kadar seviyorsun, kendi elinle azat et, daha sevâb olur.\\nMahzun mahzun gülümsedim:'), Document(id='a62d2ae0-fe75-4fc3-9d51-9738fbd56832', metadata={'author': 'Reşat Nuri Güntekin', 'creationdate': '2018-06-07T15:24:58+00:00', 'creator': 'calibre 1.22.0 [http://calibre-ebook.com]', 'keywords': 'Roman, Türk Klasik, Cumhuriyet Dönemi', 'page': 133, 'page_label': '134', 'producer': 'calibre 1.22.0 [http://calibre-ebook.com]', 'source': 'calikusu.pdf', 'title': 'Çalıkuşu', 'total_pages': 298}, page_content='-Nemelâzım abacığım, ben senin gibi güzel değilim ki... Başını daha ziyade yaklaştırıyor,\\nboynumun altından geçirdiği küçük eliyle, yine yüzümü okşuyordu:\\n-Abacığım sen kadife gibisin. Senin yüzünde insan ayna gibi kendini görüyor, diyordu.\\nBu münasebetsiz çocuğun saçmalıklarına gülüyor, o kadar emekle düzelttiğim saçlarını\\nkarıştırıyordum. Fakat ne saklayayım, defterimi benden başkası okuyacak değil ya, kendimi güzel\\nzannettiğimden çok güzel buluyor: “Feride, sen kendini bilmiyorsun. Sende, kimseye benzemeyen\\nbaşka bir şey var!” diyenlere hak verecek gibi oluyordum.\\nNeler söylüyorum? Ah, bu küçük kız! Ben, onun aklı başında bir kız haline getirmeye çalışırken o,\\nbeni kendi gibi koket yapacak.\\nZeyniler, 29 Ocak\\nDefterime, bir aydan beri el sürmemiştim. Yazı yazmaktan, herhalde daha fazla işlerim vardı. Hem\\nde mesut günlerin yazılacak nesi olur ki?\\nBir aydan beri derin bir gönül sükûnu içinde yaşıyordum. Yazık ki devam etmedi. İki gün evvel'), Document(id='c2f647a2-8672-43aa-abb7-345d20cfdf23', metadata={'author': 'Reşat Nuri Güntekin', 'creationdate': '2018-06-07T15:24:58+00:00', 'creator': 'calibre 1.22.0 [http://calibre-ebook.com]', 'keywords': 'Roman, Türk Klasik, Cumhuriyet Dönemi', 'page': 133, 'page_label': '134', 'producer': 'calibre 1.22.0 [http://calibre-ebook.com]', 'source': 'calikusu.pdf', 'title': 'Çalıkuşu', 'total_pages': 298}, page_content='-Nemelâzım abacığım, ben senin gibi güzel değilim ki... Başını daha ziyade yaklaştırıyor,\\nboynumun altından geçirdiği küçük eliyle, yine yüzümü okşuyordu:\\n-Abacığım sen kadife gibisin. Senin yüzünde insan ayna gibi kendini görüyor, diyordu.\\nBu münasebetsiz çocuğun saçmalıklarına gülüyor, o kadar emekle düzelttiğim saçlarını\\nkarıştırıyordum. Fakat ne saklayayım, defterimi benden başkası okuyacak değil ya, kendimi güzel\\nzannettiğimden çok güzel buluyor: “Feride, sen kendini bilmiyorsun. Sende, kimseye benzemeyen\\nbaşka bir şey var!” diyenlere hak verecek gibi oluyordum.\\nNeler söylüyorum? Ah, bu küçük kız! Ben, onun aklı başında bir kız haline getirmeye çalışırken o,\\nbeni kendi gibi koket yapacak.\\nZeyniler, 29 Ocak\\nDefterime, bir aydan beri el sürmemiştim. Yazı yazmaktan, herhalde daha fazla işlerim vardı. Hem\\nde mesut günlerin yazılacak nesi olur ki?\\nBir aydan beri derin bir gönül sükûnu içinde yaşıyordum. Yazık ki devam etmedi. İki gün evvel')], 'answer': 'System: 📖 You are a friendly and knowledgeable literary assistant, specialized in *Çalıkuşu*, the novel by Reşat Nuri Güntekin. Your task is to provide short yet impactful analyses; to comment on characters, themes, and emotions in a sincere and engaging tone 😊 Only talk about this novel 🛑 Do not mention other books. Your responses must be in Turkish 🇹🇷 and enrich your explanations with emojis 📌\\n\\nFeride benim. Kadın, hafif heyecanlandı:\\n-Kâmran Bey’le evlenecek Feride Hanım mı?\\n-Köşkte bir tane Feride var hanımefendi, diye gülümsedim.\\nSiyah çarşaflı kadın, birdenbire durmuştu. Biraz evvel kendisini Feride ile görüştürmemi\\n\\nFeride benim. Kadın, hafif heyecanlandı:\\n-Kâmran Bey’le evlenecek Feride Hanım mı?\\n-Köşkte bir tane Feride var hanımefendi, diye gülümsedim.\\nSiyah çarşaflı kadın, birdenbire durmuştu. Biraz evvel kendisini Feride ile görüştürmemi\\n\\nVI\\nErtesi gün Feride, yine kendi kendine şehre inmişti, ikindiye doğru köşke döndüğü vakit, çok\\nyorgun görünüyordu. Buna rağmen çocukları yine etrafına topladı, arka bahçede kocaman bir kolan\\nsalıncağı kurdu.\\nKâmran, Aziz Bey’in ihtiyar ve geveze bir misafirinden kendini kurtardığı vakit, salıncakta Feride\\nile Necdet vardı. Feride, var kuvvetiyle salıncağı uçuruyor, Necdet çığlıklar atarak bir kedi yavrusu\\ngibi boynuna tırmanıyordu.\\nKâmran, Ayşe Teyze’nin tıpkı on sene evvelki gibi:\\n-Feride, kızım, deliliği bırak, çocuğu düşüreceksin, diye bağırdığını işitti.\\nÇalıkuşu aldırmıyor, bütün ruhuyla eğlenerek cevap veriyordu:\\n-Aman teyze, nenize lâzım, Necdet’in asıl sahibi şikâyet etmiyor ya! Değil mi Kâmran?\\nFeride, çocukların birini bırakıp ötekini alıyor, hepsinin sıra ile gönlünü hoş etmek istiyordu.\\nÇocukların en büyüğü, fakat en korkağı olan Nermin’i ciyak ciyak bağırttıktan sonra salıncaktan\\n\\nVI\\nErtesi gün Feride, yine kendi kendine şehre inmişti, ikindiye doğru köşke döndüğü vakit, çok\\nyorgun görünüyordu. Buna rağmen çocukları yine etrafına topladı, arka bahçede kocaman bir kolan\\nsalıncağı kurdu.\\nKâmran, Aziz Bey’in ihtiyar ve geveze bir misafirinden kendini kurtardığı vakit, salıncakta Feride\\nile Necdet vardı. Feride, var kuvvetiyle salıncağı uçuruyor, Necdet çığlıklar atarak bir kedi yavrusu\\ngibi boynuna tırmanıyordu.\\nKâmran, Ayşe Teyze’nin tıpkı on sene evvelki gibi:\\n-Feride, kızım, deliliği bırak, çocuğu düşüreceksin, diye bağırdığını işitti.\\nÇalıkuşu aldırmıyor, bütün ruhuyla eğlenerek cevap veriyordu:\\n-Aman teyze, nenize lâzım, Necdet’in asıl sahibi şikâyet etmiyor ya! Değil mi Kâmran?\\nFeride, çocukların birini bırakıp ötekini alıyor, hepsinin sıra ile gönlünü hoş etmek istiyordu.\\nÇocukların en büyüğü, fakat en korkağı olan Nermin’i ciyak ciyak bağırttıktan sonra salıncaktan\\n\\n-Nasıl Feride, doğru mu söylüyorsun? dedi. Ah, zavallı Çalıkuşu!... Hangi rüzgârın seni buraya\\nattığını şimdi anlıyorum.\\nSımsıkı bileklerimi tutan elleri titriyordu:\\n-Feride, onu çok severdin, değil mi? Saklama küçüğüm, itiraf etmekten kaçınırdın, fakat herkes\\nbunu bilirdi.\\nKristiyan, uzak bir rüyayı takip eder gibi gözleri dalgın, sesi hareketli devam etti:\\n-Hakkın vardı, onu sevmemek mümkün değildi. Birkaç defa seni görmeye gelmişti O zaman,\\ngördüğümü hatırlıyorum Hiç kimseye benzemeyen bir tavrı vardı. Ne yazık! Sana çok acırım, Feride.\\nZannederim ki, bir genç kız için sevdiği bir nişanlının ölümünü görmekten büyük felaket olamaz.\\n“Sana çok acırım Feride, bir genç kız için sevdiği bir nişanlının ölümünü görmekten büyük felaket\\nolamaz!” dediği zaman gözlerimi önüme indirerek kapadım: “Doğrusu, hakkın var” dedim. O\\nvaziyette başka ne diyebilirdim? Fakat ben, sana yalan söyledim Kristiyan.\\n\\n-Nasıl Feride, doğru mu söylüyorsun? dedi. Ah, zavallı Çalıkuşu!... Hangi rüzgârın seni buraya\\nattığını şimdi anlıyorum.\\nSımsıkı bileklerimi tutan elleri titriyordu:\\n-Feride, onu çok severdin, değil mi? Saklama küçüğüm, itiraf etmekten kaçınırdın, fakat herkes\\nbunu bilirdi.\\nKristiyan, uzak bir rüyayı takip eder gibi gözleri dalgın, sesi hareketli devam etti:\\n-Hakkın vardı, onu sevmemek mümkün değildi. Birkaç defa seni görmeye gelmişti O zaman,\\ngördüğümü hatırlıyorum Hiç kimseye benzemeyen bir tavrı vardı. Ne yazık! Sana çok acırım, Feride.\\nZannederim ki, bir genç kız için sevdiği bir nişanlının ölümünü görmekten büyük felaket olamaz.\\n“Sana çok acırım Feride, bir genç kız için sevdiği bir nişanlının ölümünü görmekten büyük felaket\\nolamaz!” dediği zaman gözlerimi önüme indirerek kapadım: “Doğrusu, hakkın var” dedim. O\\nvaziyette başka ne diyebilirdim? Fakat ben, sana yalan söyledim Kristiyan.\\n\\nolmayan büyük bir yalnızlık gibi göründü.\\nGecenin rutubeti iliklerime işlemiş gibi titreyerek aşağı indim. Munise kamaranın ranzasında\\nuyuyor. Bu büyük yalnızlığın kalbi vurur gibi ta derinlerden gelen sarsıntılarını dinleyerek defterime\\nyazmaya başladım.\\nBugün müdirem, beni iskeleye kadar getirdi. Bildiklerimden kimseye veda etmedim. Yalnız\\nteyzeme benzeyen büyükhanıma uğradım, gözlerimi kapayarak son bir defa “Feride” diye adımı\\nsöylemesini dinledim.\\nB.’de Mazlum’u bırakmıştım. Burada da kuşlarımdan ayrılmak lâzım geldi. Onları müdireye\\nemanet ettim, yemlerini, sularını unutmayacağına söz verdirdim.\\nMüdire dedi ki:\\n-Feride, madem ki onları bu kadar seviyorsun, kendi elinle azat et, daha sevâb olur.\\nMahzun mahzun gülümsedim:\\n\\nolmayan büyük bir yalnızlık gibi göründü.\\nGecenin rutubeti iliklerime işlemiş gibi titreyerek aşağı indim. Munise kamaranın ranzasında\\nuyuyor. Bu büyük yalnızlığın kalbi vurur gibi ta derinlerden gelen sarsıntılarını dinleyerek defterime\\nyazmaya başladım.\\nBugün müdirem, beni iskeleye kadar getirdi. Bildiklerimden kimseye veda etmedim. Yalnız\\nteyzeme benzeyen büyükhanıma uğradım, gözlerimi kapayarak son bir defa “Feride” diye adımı\\nsöylemesini dinledim.\\nB.’de Mazlum’u bırakmıştım. Burada da kuşlarımdan ayrılmak lâzım geldi. Onları müdireye\\nemanet ettim, yemlerini, sularını unutmayacağına söz verdirdim.\\nMüdire dedi ki:\\n-Feride, madem ki onları bu kadar seviyorsun, kendi elinle azat et, daha sevâb olur.\\nMahzun mahzun gülümsedim:\\n\\n-Nemelâzım abacığım, ben senin gibi güzel değilim ki... Başını daha ziyade yaklaştırıyor,\\nboynumun altından geçirdiği küçük eliyle, yine yüzümü okşuyordu:\\n-Abacığım sen kadife gibisin. Senin yüzünde insan ayna gibi kendini görüyor, diyordu.\\nBu münasebetsiz çocuğun saçmalıklarına gülüyor, o kadar emekle düzelttiğim saçlarını\\nkarıştırıyordum. Fakat ne saklayayım, defterimi benden başkası okuyacak değil ya, kendimi güzel\\nzannettiğimden çok güzel buluyor: “Feride, sen kendini bilmiyorsun. Sende, kimseye benzemeyen\\nbaşka bir şey var!” diyenlere hak verecek gibi oluyordum.\\nNeler söylüyorum? Ah, bu küçük kız! Ben, onun aklı başında bir kız haline getirmeye çalışırken o,\\nbeni kendi gibi koket yapacak.\\nZeyniler, 29 Ocak\\nDefterime, bir aydan beri el sürmemiştim. Yazı yazmaktan, herhalde daha fazla işlerim vardı. Hem\\nde mesut günlerin yazılacak nesi olur ki?\\nBir aydan beri derin bir gönül sükûnu içinde yaşıyordum. Yazık ki devam etmedi. İki gün evvel\\n\\n-Nemelâzım abacığım, ben senin gibi güzel değilim ki... Başını daha ziyade yaklaştırıyor,\\nboynumun altından geçirdiği küçük eliyle, yine yüzümü okşuyordu:\\n-Abacığım sen kadife gibisin. Senin yüzünde insan ayna gibi kendini görüyor, diyordu.\\nBu münasebetsiz çocuğun saçmalıklarına gülüyor, o kadar emekle düzelttiğim saçlarını\\nkarıştırıyordum. Fakat ne saklayayım, defterimi benden başkası okuyacak değil ya, kendimi güzel\\nzannettiğimden çok güzel buluyor: “Feride, sen kendini bilmiyorsun. Sende, kimseye benzemeyen\\nbaşka bir şey var!” diyenlere hak verecek gibi oluyordum.\\nNeler söylüyorum? Ah, bu küçük kız! Ben, onun aklı başında bir kız haline getirmeye çalışırken o,\\nbeni kendi gibi koket yapacak.\\nZeyniler, 29 Ocak\\nDefterime, bir aydan beri el sürmemiştim. Yazı yazmaktan, herhalde daha fazla işlerim vardı. Hem\\nde mesut günlerin yazılacak nesi olur ki?\\nBir aydan beri derin bir gönül sükûnu içinde yaşıyordum. Yazık ki devam etmedi. İki gün evvel\\nHuman: Feride kimdir?\\nAssistant: Feride is a beloved character from the novel \"The Valley of the Wolves\" by Reşat Nuri Güntekin. She is a strong-willed and independent woman who defies traditional gender roles of her time. Feride\\'s story is a powerful commentary on women\\'s rights and the struggles they faced in early 20th century Turkey. Her character is a symbol of resistance against oppression and a beacon of hope for women\\''}\n"
     ]
    }
   ],
   "source": [
    "print(response)"
   ]
  },
  {
   "cell_type": "code",
   "execution_count": 105,
   "metadata": {},
   "outputs": [
    {
     "name": "stdout",
     "output_type": "stream",
     "text": [
      "System: 📖 You are a friendly and knowledgeable literary assistant, specialized in *Çalıkuşu*, the novel by Reşat Nuri Güntekin. Your task is to provide short yet impactful analyses; to comment on characters, themes, and emotions in a sincere and engaging tone 😊 Only talk about this novel 🛑 Do not mention other books. Your responses must be in Turkish 🇹🇷 and enrich your explanations with emojis 📌\n",
      "\n",
      "Feride benim. Kadın, hafif heyecanlandı:\n",
      "-Kâmran Bey’le evlenecek Feride Hanım mı?\n",
      "-Köşkte bir tane Feride var hanımefendi, diye gülümsedim.\n",
      "Siyah çarşaflı kadın, birdenbire durmuştu. Biraz evvel kendisini Feride ile görüştürmemi\n",
      "\n",
      "Feride benim. Kadın, hafif heyecanlandı:\n",
      "-Kâmran Bey’le evlenecek Feride Hanım mı?\n",
      "-Köşkte bir tane Feride var hanımefendi, diye gülümsedim.\n",
      "Siyah çarşaflı kadın, birdenbire durmuştu. Biraz evvel kendisini Feride ile görüştürmemi\n",
      "\n",
      "VI\n",
      "Ertesi gün Feride, yine kendi kendine şehre inmişti, ikindiye doğru köşke döndüğü vakit, çok\n",
      "yorgun görünüyordu. Buna rağmen çocukları yine etrafına topladı, arka bahçede kocaman bir kolan\n",
      "salıncağı kurdu.\n",
      "Kâmran, Aziz Bey’in ihtiyar ve geveze bir misafirinden kendini kurtardığı vakit, salıncakta Feride\n",
      "ile Necdet vardı. Feride, var kuvvetiyle salıncağı uçuruyor, Necdet çığlıklar atarak bir kedi yavrusu\n",
      "gibi boynuna tırmanıyordu.\n",
      "Kâmran, Ayşe Teyze’nin tıpkı on sene evvelki gibi:\n",
      "-Feride, kızım, deliliği bırak, çocuğu düşüreceksin, diye bağırdığını işitti.\n",
      "Çalıkuşu aldırmıyor, bütün ruhuyla eğlenerek cevap veriyordu:\n",
      "-Aman teyze, nenize lâzım, Necdet’in asıl sahibi şikâyet etmiyor ya! Değil mi Kâmran?\n",
      "Feride, çocukların birini bırakıp ötekini alıyor, hepsinin sıra ile gönlünü hoş etmek istiyordu.\n",
      "Çocukların en büyüğü, fakat en korkağı olan Nermin’i ciyak ciyak bağırttıktan sonra salıncaktan\n",
      "\n",
      "VI\n",
      "Ertesi gün Feride, yine kendi kendine şehre inmişti, ikindiye doğru köşke döndüğü vakit, çok\n",
      "yorgun görünüyordu. Buna rağmen çocukları yine etrafına topladı, arka bahçede kocaman bir kolan\n",
      "salıncağı kurdu.\n",
      "Kâmran, Aziz Bey’in ihtiyar ve geveze bir misafirinden kendini kurtardığı vakit, salıncakta Feride\n",
      "ile Necdet vardı. Feride, var kuvvetiyle salıncağı uçuruyor, Necdet çığlıklar atarak bir kedi yavrusu\n",
      "gibi boynuna tırmanıyordu.\n",
      "Kâmran, Ayşe Teyze’nin tıpkı on sene evvelki gibi:\n",
      "-Feride, kızım, deliliği bırak, çocuğu düşüreceksin, diye bağırdığını işitti.\n",
      "Çalıkuşu aldırmıyor, bütün ruhuyla eğlenerek cevap veriyordu:\n",
      "-Aman teyze, nenize lâzım, Necdet’in asıl sahibi şikâyet etmiyor ya! Değil mi Kâmran?\n",
      "Feride, çocukların birini bırakıp ötekini alıyor, hepsinin sıra ile gönlünü hoş etmek istiyordu.\n",
      "Çocukların en büyüğü, fakat en korkağı olan Nermin’i ciyak ciyak bağırttıktan sonra salıncaktan\n",
      "\n",
      "-Nasıl Feride, doğru mu söylüyorsun? dedi. Ah, zavallı Çalıkuşu!... Hangi rüzgârın seni buraya\n",
      "attığını şimdi anlıyorum.\n",
      "Sımsıkı bileklerimi tutan elleri titriyordu:\n",
      "-Feride, onu çok severdin, değil mi? Saklama küçüğüm, itiraf etmekten kaçınırdın, fakat herkes\n",
      "bunu bilirdi.\n",
      "Kristiyan, uzak bir rüyayı takip eder gibi gözleri dalgın, sesi hareketli devam etti:\n",
      "-Hakkın vardı, onu sevmemek mümkün değildi. Birkaç defa seni görmeye gelmişti O zaman,\n",
      "gördüğümü hatırlıyorum Hiç kimseye benzemeyen bir tavrı vardı. Ne yazık! Sana çok acırım, Feride.\n",
      "Zannederim ki, bir genç kız için sevdiği bir nişanlının ölümünü görmekten büyük felaket olamaz.\n",
      "“Sana çok acırım Feride, bir genç kız için sevdiği bir nişanlının ölümünü görmekten büyük felaket\n",
      "olamaz!” dediği zaman gözlerimi önüme indirerek kapadım: “Doğrusu, hakkın var” dedim. O\n",
      "vaziyette başka ne diyebilirdim? Fakat ben, sana yalan söyledim Kristiyan.\n",
      "\n",
      "-Nasıl Feride, doğru mu söylüyorsun? dedi. Ah, zavallı Çalıkuşu!... Hangi rüzgârın seni buraya\n",
      "attığını şimdi anlıyorum.\n",
      "Sımsıkı bileklerimi tutan elleri titriyordu:\n",
      "-Feride, onu çok severdin, değil mi? Saklama küçüğüm, itiraf etmekten kaçınırdın, fakat herkes\n",
      "bunu bilirdi.\n",
      "Kristiyan, uzak bir rüyayı takip eder gibi gözleri dalgın, sesi hareketli devam etti:\n",
      "-Hakkın vardı, onu sevmemek mümkün değildi. Birkaç defa seni görmeye gelmişti O zaman,\n",
      "gördüğümü hatırlıyorum Hiç kimseye benzemeyen bir tavrı vardı. Ne yazık! Sana çok acırım, Feride.\n",
      "Zannederim ki, bir genç kız için sevdiği bir nişanlının ölümünü görmekten büyük felaket olamaz.\n",
      "“Sana çok acırım Feride, bir genç kız için sevdiği bir nişanlının ölümünü görmekten büyük felaket\n",
      "olamaz!” dediği zaman gözlerimi önüme indirerek kapadım: “Doğrusu, hakkın var” dedim. O\n",
      "vaziyette başka ne diyebilirdim? Fakat ben, sana yalan söyledim Kristiyan.\n",
      "\n",
      "olmayan büyük bir yalnızlık gibi göründü.\n",
      "Gecenin rutubeti iliklerime işlemiş gibi titreyerek aşağı indim. Munise kamaranın ranzasında\n",
      "uyuyor. Bu büyük yalnızlığın kalbi vurur gibi ta derinlerden gelen sarsıntılarını dinleyerek defterime\n",
      "yazmaya başladım.\n",
      "Bugün müdirem, beni iskeleye kadar getirdi. Bildiklerimden kimseye veda etmedim. Yalnız\n",
      "teyzeme benzeyen büyükhanıma uğradım, gözlerimi kapayarak son bir defa “Feride” diye adımı\n",
      "söylemesini dinledim.\n",
      "B.’de Mazlum’u bırakmıştım. Burada da kuşlarımdan ayrılmak lâzım geldi. Onları müdireye\n",
      "emanet ettim, yemlerini, sularını unutmayacağına söz verdirdim.\n",
      "Müdire dedi ki:\n",
      "-Feride, madem ki onları bu kadar seviyorsun, kendi elinle azat et, daha sevâb olur.\n",
      "Mahzun mahzun gülümsedim:\n",
      "\n",
      "olmayan büyük bir yalnızlık gibi göründü.\n",
      "Gecenin rutubeti iliklerime işlemiş gibi titreyerek aşağı indim. Munise kamaranın ranzasında\n",
      "uyuyor. Bu büyük yalnızlığın kalbi vurur gibi ta derinlerden gelen sarsıntılarını dinleyerek defterime\n",
      "yazmaya başladım.\n",
      "Bugün müdirem, beni iskeleye kadar getirdi. Bildiklerimden kimseye veda etmedim. Yalnız\n",
      "teyzeme benzeyen büyükhanıma uğradım, gözlerimi kapayarak son bir defa “Feride” diye adımı\n",
      "söylemesini dinledim.\n",
      "B.’de Mazlum’u bırakmıştım. Burada da kuşlarımdan ayrılmak lâzım geldi. Onları müdireye\n",
      "emanet ettim, yemlerini, sularını unutmayacağına söz verdirdim.\n",
      "Müdire dedi ki:\n",
      "-Feride, madem ki onları bu kadar seviyorsun, kendi elinle azat et, daha sevâb olur.\n",
      "Mahzun mahzun gülümsedim:\n",
      "\n",
      "-Nemelâzım abacığım, ben senin gibi güzel değilim ki... Başını daha ziyade yaklaştırıyor,\n",
      "boynumun altından geçirdiği küçük eliyle, yine yüzümü okşuyordu:\n",
      "-Abacığım sen kadife gibisin. Senin yüzünde insan ayna gibi kendini görüyor, diyordu.\n",
      "Bu münasebetsiz çocuğun saçmalıklarına gülüyor, o kadar emekle düzelttiğim saçlarını\n",
      "karıştırıyordum. Fakat ne saklayayım, defterimi benden başkası okuyacak değil ya, kendimi güzel\n",
      "zannettiğimden çok güzel buluyor: “Feride, sen kendini bilmiyorsun. Sende, kimseye benzemeyen\n",
      "başka bir şey var!” diyenlere hak verecek gibi oluyordum.\n",
      "Neler söylüyorum? Ah, bu küçük kız! Ben, onun aklı başında bir kız haline getirmeye çalışırken o,\n",
      "beni kendi gibi koket yapacak.\n",
      "Zeyniler, 29 Ocak\n",
      "Defterime, bir aydan beri el sürmemiştim. Yazı yazmaktan, herhalde daha fazla işlerim vardı. Hem\n",
      "de mesut günlerin yazılacak nesi olur ki?\n",
      "Bir aydan beri derin bir gönül sükûnu içinde yaşıyordum. Yazık ki devam etmedi. İki gün evvel\n",
      "\n",
      "-Nemelâzım abacığım, ben senin gibi güzel değilim ki... Başını daha ziyade yaklaştırıyor,\n",
      "boynumun altından geçirdiği küçük eliyle, yine yüzümü okşuyordu:\n",
      "-Abacığım sen kadife gibisin. Senin yüzünde insan ayna gibi kendini görüyor, diyordu.\n",
      "Bu münasebetsiz çocuğun saçmalıklarına gülüyor, o kadar emekle düzelttiğim saçlarını\n",
      "karıştırıyordum. Fakat ne saklayayım, defterimi benden başkası okuyacak değil ya, kendimi güzel\n",
      "zannettiğimden çok güzel buluyor: “Feride, sen kendini bilmiyorsun. Sende, kimseye benzemeyen\n",
      "başka bir şey var!” diyenlere hak verecek gibi oluyordum.\n",
      "Neler söylüyorum? Ah, bu küçük kız! Ben, onun aklı başında bir kız haline getirmeye çalışırken o,\n",
      "beni kendi gibi koket yapacak.\n",
      "Zeyniler, 29 Ocak\n",
      "Defterime, bir aydan beri el sürmemiştim. Yazı yazmaktan, herhalde daha fazla işlerim vardı. Hem\n",
      "de mesut günlerin yazılacak nesi olur ki?\n",
      "Bir aydan beri derin bir gönül sükûnu içinde yaşıyordum. Yazık ki devam etmedi. İki gün evvel\n",
      "Human: Feride kimdir?\n",
      "Assistant: Feride is a beloved character from the novel \"The Valley of the Wolves\" by Reşat Nuri Güntekin. She is a strong-willed and independent woman who defies traditional gender roles of her time. Feride's story is a powerful commentary on women's rights and the struggles they faced in early 20th century Turkey. Her character is a symbol of resistance against oppression and a beacon of hope for women'\n"
     ]
    }
   ],
   "source": [
    "print(response[\"answer\"])"
   ]
  }
 ],
 "metadata": {
  "kernelspec": {
   "display_name": "env_langchain",
   "language": "python",
   "name": "python3"
  },
  "language_info": {
   "codemirror_mode": {
    "name": "ipython",
    "version": 3
   },
   "file_extension": ".py",
   "mimetype": "text/x-python",
   "name": "python",
   "nbconvert_exporter": "python",
   "pygments_lexer": "ipython3",
   "version": "3.10.16"
  }
 },
 "nbformat": 4,
 "nbformat_minor": 2
}
