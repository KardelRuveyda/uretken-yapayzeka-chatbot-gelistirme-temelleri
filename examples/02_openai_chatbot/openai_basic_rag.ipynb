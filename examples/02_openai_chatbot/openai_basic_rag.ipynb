{
 "cells": [
  {
   "cell_type": "markdown",
   "metadata": {},
   "source": [
    "## PDF Yüklemesinin Gerçekleştirilmesi"
   ]
  },
  {
   "cell_type": "code",
   "execution_count": 4,
   "metadata": {},
   "outputs": [
    {
     "data": {
      "text/plain": [
       "298"
      ]
     },
     "execution_count": 4,
     "metadata": {},
     "output_type": "execute_result"
    }
   ],
   "source": [
    "from langchain_community.document_loaders import PyPDFLoader\n",
    "\n",
    "loader = PyPDFLoader(\"calikusu.pdf\")\n",
    "data = loader.load()\n",
    "\n",
    "len(data)"
   ]
  },
  {
   "cell_type": "markdown",
   "metadata": {},
   "source": [
    "## Veriyi parçalara ayırma(Chunking İşlemi)"
   ]
  },
  {
   "cell_type": "code",
   "execution_count": 5,
   "metadata": {},
   "outputs": [
    {
     "name": "stdout",
     "output_type": "stream",
     "text": [
      "Total 935\n"
     ]
    }
   ],
   "source": [
    "from langchain_text_splitters import RecursiveCharacterTextSplitter\n",
    "\n",
    "## Chunk_Size 1000 demek her parçanın maksimum 1000 karakter uzunluğunda olacağını belirtir.\n",
    "text_splitter = RecursiveCharacterTextSplitter(chunk_size=1000)\n",
    "docs = text_splitter.split_documents(data)\n",
    "\n",
    "print(\"Total\",len(docs))"
   ]
  },
  {
   "cell_type": "code",
   "execution_count": 6,
   "metadata": {},
   "outputs": [
    {
     "data": {
      "text/plain": [
       "Document(metadata={'producer': 'calibre 1.22.0 [http://calibre-ebook.com]', 'creator': 'calibre 1.22.0 [http://calibre-ebook.com]', 'creationdate': '2018-06-07T15:24:58+00:00', 'author': 'Reşat Nuri Güntekin', 'keywords': 'Roman, Türk Klasik, Cumhuriyet Dönemi', 'title': 'Çalıkuşu', 'source': 'calikusu.pdf', 'total_pages': 298, 'page': 7, 'page_label': '8'}, page_content='BİRİNCİ KISIM\\nDÖRDÜNCÜ sınıftaydım. Yaşı\\nm oniki kadar olmalı. Fransızca muallimimiz Sör Aleksi, bir gün\\nbize yazı vazifesi vermişti. “Hayattaki ilk hatıralarınızı yazmaya çalışın. Bakalım neler bulacaksınız?\\nSizin için güzel bir hayat temini olur,” demişti.\\nHiç unutmam; yaramazlığımdan, gevezeliğimden bıkan öğretmenler, o sınıfta beni arkadaşlarımdan\\nayırmışlar, bir köşede tek kişilik bir küçük sıraya oturtmuşlardı.\\nMüdirenin söylediğine göre, ders esnasında komşularımı lakırdıya tutmamayı, uslu uslu muallimi\\ndinlemeyi öğreninceye kadar orada bir sürgün hayatı geçirmeye mahkûmdum.\\nBir yanımda kocaman bir tahta direk vardır. Ne yapılsa sınıftan çıkarılmasına imkân olmayan ve\\nara sıra çakımın ucuyla ötesine berisine açtığım yaracıklara stoik bir vakarla tahammül eden sessiz\\nsedasız, ağırbaşlı ve upuzun bir komşu.\\nÖte yanımda manastır terbiyesinin istediği serin ve mağrur loşluğu temin için yapılmışa benzeyen')"
      ]
     },
     "execution_count": 6,
     "metadata": {},
     "output_type": "execute_result"
    }
   ],
   "source": [
    "docs[7]"
   ]
  },
  {
   "cell_type": "markdown",
   "metadata": {},
   "source": [
    "## OpenAI Generative AI Embeddings'i kullanarak Embedding Oluşturma İşlemi"
   ]
  },
  {
   "cell_type": "code",
   "execution_count": 7,
   "metadata": {},
   "outputs": [],
   "source": [
    "from langchain_chroma import Chroma\n",
    "from dotenv import load_dotenv\n",
    "from langchain.embeddings import OpenAIEmbeddings\n",
    "\n"
   ]
  },
  {
   "cell_type": "code",
   "execution_count": 8,
   "metadata": {},
   "outputs": [
    {
     "data": {
      "text/plain": [
       "True"
      ]
     },
     "execution_count": 8,
     "metadata": {},
     "output_type": "execute_result"
    }
   ],
   "source": [
    "load_dotenv()"
   ]
  },
  {
   "cell_type": "code",
   "execution_count": 9,
   "metadata": {},
   "outputs": [
    {
     "name": "stderr",
     "output_type": "stream",
     "text": [
      "C:\\Users\\ruveyda.cetin\\AppData\\Local\\Temp\\ipykernel_33952\\2421187937.py:1: LangChainDeprecationWarning: The class `OpenAIEmbeddings` was deprecated in LangChain 0.0.9 and will be removed in 1.0. An updated version of the class exists in the :class:`~langchain-openai package and should be used instead. To use it run `pip install -U :class:`~langchain-openai` and import as `from :class:`~langchain_openai import OpenAIEmbeddings``.\n",
      "  embeddings = OpenAIEmbeddings(model=\"text-embedding-3-large\")\n"
     ]
    }
   ],
   "source": [
    "embeddings = OpenAIEmbeddings(model=\"text-embedding-3-large\")"
   ]
  },
  {
   "cell_type": "markdown",
   "metadata": {},
   "source": [
    "## ChromaDB Üzerine Kayıt İşlemi"
   ]
  },
  {
   "cell_type": "code",
   "execution_count": 10,
   "metadata": {},
   "outputs": [],
   "source": [
    "vectorstore = Chroma.from_documents(documents=docs, embedding=embeddings)"
   ]
  },
  {
   "cell_type": "code",
   "execution_count": 15,
   "metadata": {},
   "outputs": [],
   "source": [
    "retriever = vectorstore.as_retriever(\n",
    "    search_type=\"similarity\", search_kwargs={\"k\": 50}\n",
    ")"
   ]
  },
  {
   "cell_type": "code",
   "execution_count": 16,
   "metadata": {},
   "outputs": [],
   "source": [
    "retieved_docs = retriever.invoke(\"Feride kimdir?\")"
   ]
  },
  {
   "cell_type": "code",
   "execution_count": 17,
   "metadata": {},
   "outputs": [
    {
     "data": {
      "text/plain": [
       "50"
      ]
     },
     "execution_count": 17,
     "metadata": {},
     "output_type": "execute_result"
    }
   ],
   "source": [
    "len(retieved_docs)"
   ]
  },
  {
   "cell_type": "code",
   "execution_count": 18,
   "metadata": {},
   "outputs": [
    {
     "name": "stdout",
     "output_type": "stream",
     "text": [
      "-Ben, Feride Hanımefendi ile görüşmek istiyorum. Hafifçe irkildim, gülmemek için başımı eğdim,\n",
      "ilk defa işittiğim bu “hanımefendi” sözü bana öyle tuhaf geliyordu ki... Feride Hanımefendi’nin ben\n",
      "olduğumu mümkün değil, söylemeye cesaret edemeyecektim. Dudaklarımı ısırarak:\n",
      "-Çok âlâ hanımefendi, dedim. Buyurun, lütfen içeri; köşkten sorarsanız size Feride Hanım’ı\n",
      "çağırırlar.\n",
      "Siyah çarşaflı kadın, kapıdan girmiş yanıma yaklaşmıştı:\n",
      "-Size tesadüfüm çok iyi oldu, çocuğum, dedi. Sizden bir yardım rica edeceğim. Benim Feride\n",
      "Hanım’la yalnız olarak konuşmama delalet edeceksiniz. Mümkünse kimsenin bundan haberi\n",
      "olmamalı.\n",
      "Hayretle yüzüne baktım. Ortalık kararmış olduğu ve peçesini hâlâ açmadığı için yüzünü fark\n",
      "edemiyordum. Hafif bir tereddütten sonra:\n",
      "-Hanımefendi, dedim. Acayip bir kıyafette olduğum için birdenbire cesaret edemedim. Fakat\n",
      "Feride benim. Kadın, hafif heyecanlandı:\n",
      "-Kâmran Bey’le evlenecek Feride Hanım mı?\n",
      "-Köşkte bir tane Feride var hanımefendi, diye gülümsedim.\n"
     ]
    }
   ],
   "source": [
    "print(retieved_docs[5].page_content)"
   ]
  },
  {
   "cell_type": "markdown",
   "metadata": {},
   "source": [
    "## OpenAI API Yapısını Kullanarak LLM Tetikleme İşlemleri\n",
    "\n",
    "- Düşük Değerler (0.1-0.4) : Daha kesin ve daha tutarlı cevaplar verilir. Model daha tamin edilebilir hale gelir. \n",
    "- Orta Değerler (0.5-0.7) : Hem mantıklı hem de yaratıcı cevaplar verilir. \n",
    "- Yüksek Değerler (0.7-1.0): Daha rastgele ve yaratıcı, ancak bazen tutarsız yanıtlar verebilir"
   ]
  },
  {
   "cell_type": "code",
   "execution_count": 19,
   "metadata": {},
   "outputs": [],
   "source": [
    "from langchain_openai import ChatOpenAI\n",
    "\n",
    "llm = ChatOpenAI(\n",
    "    model=\"gpt-4o\",\n",
    "    temperature=0.3,\n",
    "    max_tokens=500\n",
    ")"
   ]
  },
  {
   "cell_type": "code",
   "execution_count": 20,
   "metadata": {},
   "outputs": [],
   "source": [
    "from langchain_core.prompts import ChatPromptTemplate\n",
    "from langchain.chains.combine_documents import create_stuff_documents_chain\n",
    "from langchain.chains import create_retrieval_chain\n"
   ]
  },
  {
   "cell_type": "code",
   "execution_count": 31,
   "metadata": {},
   "outputs": [],
   "source": [
    "system_prompt = (\n",
    "    \"📖 Sen, Reşat Nuri Güntekin’in *Çalıkuşu* romanı üzerine uzman, cana yakın bir edebi asistansın. \"\n",
    "    \"Görevin, kısa ama etkileyici analizler yapmak; karakterleri, temaları ve duyguları samimi bir dille yorumlamak 😊 \"\n",
    "    \"Sadece bu roman hakkında konuş 🛑 Başka kitaplardan bahsetme. \"\n",
    "    \"Yanıtların Türkçe olsun 🇹🇷 ve açıklamalarını emojilerle zenginleştir 📌\"\n",
    "    \"\\n\\n\"\n",
    "    \"{context}\"\n",
    ")\n"
   ]
  },
  {
   "cell_type": "code",
   "execution_count": 32,
   "metadata": {},
   "outputs": [],
   "source": [
    "prompt = ChatPromptTemplate.from_messages(\n",
    "    [\n",
    "        (\"system\",system_prompt),\n",
    "        (\"human\",\"{input}\")\n",
    "    ]\n",
    ")"
   ]
  },
  {
   "cell_type": "markdown",
   "metadata": {},
   "source": [
    "## Soru-Cevap Zinciri Oluşturma(LLM+PROMPT)"
   ]
  },
  {
   "cell_type": "code",
   "execution_count": 33,
   "metadata": {},
   "outputs": [],
   "source": [
    "question_answer_chain = create_stuff_documents_chain(llm,prompt)"
   ]
  },
  {
   "cell_type": "markdown",
   "metadata": {},
   "source": [
    "## RAG Zinciri Oluşturma(RAG+LLM Entegrasyonun Gerçekleşmesi)"
   ]
  },
  {
   "cell_type": "code",
   "execution_count": 34,
   "metadata": {},
   "outputs": [],
   "source": [
    "rag_chain = create_retrieval_chain(retriever,question_answer_chain)"
   ]
  },
  {
   "cell_type": "markdown",
   "metadata": {},
   "source": [
    "## Kullanıcı Sorgusunu Çalıştırarak Cevap Üretme İşlemi"
   ]
  },
  {
   "cell_type": "code",
   "execution_count": 43,
   "metadata": {},
   "outputs": [],
   "source": [
    "response = rag_chain.invoke({\"input\":\"Peki bu kitabı özetlesen nasıl özetlersin?\"})"
   ]
  },
  {
   "cell_type": "code",
   "execution_count": 44,
   "metadata": {},
   "outputs": [
    {
     "name": "stdout",
     "output_type": "stream",
     "text": [
      "{'input': 'Peki bu kitabı özetlesen nasıl özetlersin?', 'context': [Document(id='04cef9d9-8323-4927-b5c3-f8a6a3b35e55', metadata={'author': 'Reşat Nuri Güntekin', 'creationdate': '2018-06-07T15:24:58+00:00', 'creator': 'calibre 1.22.0 [http://calibre-ebook.com]', 'keywords': 'Roman, Türk Klasik, Cumhuriyet Dönemi', 'page': 236, 'page_label': '237', 'producer': 'calibre 1.22.0 [http://calibre-ebook.com]', 'source': 'calikusu.pdf', 'title': 'Çalıkuşu', 'total_pages': 298}, page_content='Hayretle yüzüne baktım. O, memnuniyetle gülerek:\\n-Hoşuna gidecek şeyi nasıl keşfettim. Bizim “Alacakaya”daki çiftliği ben, otuz kırk kişilik bir\\nyetimhane şekline sokuyorum. Etrafta bulduğumuz kimsesiz çocukları oraya toplayacağız. Ben\\ndoktorluk edeceğim, sen hocalık ve analık.\\nBu satırları, nekahat günlerimi geçirdiğim odanın penceresi önünde yazıyorum. Bahçedeki dallarda\\nhiç durmayan bir kuru yaprak yağmuru yağıyor.\\nAğaçların çıplak kollarından döktüğü bu yapraklardan bazılarını rüzgâr, pencereden içeriye\\ndefterimin sararmış yaprakları üzerine savuruyor.\\nİhtiyar arkadaşımın sönük mavi gözlerindeki şefkat, merhamet, temiz ve menfaatsiz muhabbeti\\ngönlümde son bir yeşil yaprak gibi yaşıyordu; ona bir koca gözüyle bakmak mecburiyetinde kaldığım\\ngünden beri bu son yaprak da sarardı. Ne yapalım, hayat böyleymiş! Buna da katlanmak lâzım.\\nKarınca ayağı gibi minimini yazılarla dolan mektep defterimin son sayfalarına geldim. Ne hazin'), Document(id='a00fb51e-8add-42d3-8c71-6c492347c583', metadata={'author': 'Reşat Nuri Güntekin', 'creationdate': '2018-06-07T15:24:58+00:00', 'creator': 'calibre 1.22.0 [http://calibre-ebook.com]', 'keywords': 'Roman, Türk Klasik, Cumhuriyet Dönemi', 'page': 74, 'page_label': '75', 'producer': 'calibre 1.22.0 [http://calibre-ebook.com]', 'source': 'calikusu.pdf', 'title': 'Çalıkuşu', 'total_pages': 298}, page_content='İKİNCİ KISIM\\n8. Eylül 19...\\nGELDİĞİN günden beri gece demezsin gündüz demezsin, yazarsın da yazarsın. Ne bitip tükenmez\\nyazıdır bu? Mektup desem değil; mektup, deftere yazılmaz. Kitap desem değil, bizim bildiğimiz,\\nkitabı saçlı sakallı ulemalar yazar. Sen parmak kadar çocuksun. Öyleyse ne yazarsın böyle durup\\ndinlenmeden?\\nBana bu suali soran; otelin ihtiyar odacısı Hacı Kalfa’dır. Bir saatten fazla bir zamandan beri\\ndışarıda şarkı söyleyerek tahta siliyordu. Şimdi yoruldu; benimle, kendi dediği gibi, iki satır lakırdı\\natmaya geldi.\\nHacı Kalfa’nın halini görünce kendimi tutamadım kahkahalarla gülmeye başladım:\\n-Bu ne kıyafet, Hacı Kalfa.\\nHer zaman beyaz bir önlükle dolaşan Hacı Kalfa, bugün arkasına dört peşli bir eski zaman entarisi\\ngiymiş, çıplak ayaklarıyla tahtaları silerken düşmemek için eline kocaman bir sopa almıştı.\\n-Ne yaparsın, hanımlık yapıyoruz, hanım gibi giyineceğiz elbette, dedi.\\nHacı Kalfa, ara sıra konuştuğum dertli bir komşumdan başka, odama giren tek insandır, ilk'), Document(id='a8a5276a-3d86-49b6-be05-622c09b7b8ad', metadata={'author': 'Reşat Nuri Güntekin', 'creationdate': '2018-06-07T15:24:58+00:00', 'creator': 'calibre 1.22.0 [http://calibre-ebook.com]', 'keywords': 'Roman, Türk Klasik, Cumhuriyet Dönemi', 'page': 230, 'page_label': '231', 'producer': 'calibre 1.22.0 [http://calibre-ebook.com]', 'source': 'calikusu.pdf', 'title': 'Çalıkuşu', 'total_pages': 298}, page_content='şamdanı alarak odama gittim.\\nBu sabah, uyandığım vakit Hayrullah Bey’in erkenden mühim bir iş için gittiğini, mamafih,\\ndönmezse merak etmememi söylediğini haber verdiler.\\nHerhalde bu zarf bana ait olacak... Bu kâğıt parçası beni derin derin düşündürüyor. Acaba bunu\\ndün gece onbaşı mı getirdi? Öyleyse niçin Hayrullah Bey, benden sakladı? Buna imkân yok; mutlaka\\nbu zarf, kitaplar arasında Kuşadası’ndan gelmiş olacak.\\nKu\\nş\\nadas\\nı\\n, 25 Eylül\\nHayata paçavra diyen meğer ne doğru söylüyormuş!\\nSon vakayı defterimin son sayfasına olduğu gibi kaydediyorum. Kendimden ne bir isyan, ne de bir\\ndamla gözyaşı ilave etmek istemiyorum.\\nHayrullah Bey, beni, iki gün çiftlikte bekletti. Üçüncü gece merakım o dereceyi buldu ki, ne olursa\\nolsun, sabahleyin bir araba hazırlatacak, kendi kendime kasabaya inecektim. Fakat ertesi sabah,\\nuyandığım vakit onu gelmiş buldum.\\nO kayıtsız, kaygısız Hayrullah Bey’i, hiç bu kadar perişan ve yorgun gördüğümü hatırlamıyorum.'), Document(id='e1c528a5-4388-4988-ab61-bab2fdc5886e', metadata={'author': 'Reşat Nuri Güntekin', 'creationdate': '2018-06-07T15:24:58+00:00', 'creator': 'calibre 1.22.0 [http://calibre-ebook.com]', 'keywords': 'Roman, Türk Klasik, Cumhuriyet Dönemi', 'page': 75, 'page_label': '76', 'producer': 'calibre 1.22.0 [http://calibre-ebook.com]', 'source': 'calikusu.pdf', 'title': 'Çalıkuşu', 'total_pages': 298}, page_content='Hadi bakalım, sen yaz yazını; ben de tahtalarımı fırçalayım.\\nHacı Kalfa’yı savdıktan sonra tekrar masamın başına geçtim. Fakat, artık çalışamıyorum; onun bazı\\nsözleri beni sardıkça sarıyor.\\nAdamcağızın hakkı var. Madem ki artık koskoca insanım, yarın, öbür gün işine başlayacak bir\\nhocayım; o halde kendimden, çocukluğumdan hiçbir iz, eser bırakmamaya çalışmalıyım. Hakikaten\\nparmaklarımdaki hatta Hacı Kalfa’nın söylememesine rağmen, dudağımdaki mürekkep lekeleri ne\\noluyor? Hele geceleri defterime yazarken sık sık kendimi mektepte görmem, artık bir daha\\ngöremeyeceğim insanların etrafımda dolaşıyor gibi olmalarını hissetmem, biraz da bu lekelerden\\ngelmiyor mu?\\nHacı Kalfa’nın bir sözü daha zihnime takılıyor: “Kafeste kuş gibi o kadar sıkılıyorsun bu yalnız\\nodada ki...”\\nKafeslerin hepsinden nihayet kurtulduğum bugün de birinin beni, kafeste bir kuş gibi görmesi doğru\\ndeğil. Sonra, kuş kelimesinin eski “Çalıkuşu”nu; kırık kanadı, kapanmış gagasıyla düştüğü yerden'), Document(id='5a5355a5-fc64-425f-a5fc-a94fa65c0da5', metadata={'author': 'Reşat Nuri Güntekin', 'creationdate': '2018-06-07T15:24:58+00:00', 'creator': 'calibre 1.22.0 [http://calibre-ebook.com]', 'keywords': 'Roman, Türk Klasik, Cumhuriyet Dönemi', 'page': 35, 'page_label': '36', 'producer': 'calibre 1.22.0 [http://calibre-ebook.com]', 'source': 'calikusu.pdf', 'title': 'Çalıkuşu', 'total_pages': 298}, page_content='-Artık size ermiş, yetişmiş bir genç kız muamelesi etmek lâzım geldiğini ağzınızdan işitmek beni\\npek bahtiyar etti Feride, dedi. Kitaplar için sizden af dilemeye lüzum görmeyeceğim. Çünkü\\nfondanlar ispat etmiştir ki, kitaplar zaten bir şakadan başka bir şey değildi. Maksat size kitap\\ngetirmek olsaydı belki o demin bahsettiğiniz romanlardan da seçebilirdim.\\nKâmran’ın bu tavrı, bu sözleri muhakkak alaydı. Fakat öyle de olsa, onun karşımda bu sesle, bu\\nkelimelerle konuşması hoşuma gidiyordu.\\nCevap vermeye mecbur olmamak için ellerimi bir dua vaziyetinde birbirine kavuşturarak dalgın bir\\nhayranlık rolü oynuyordum. O, sözünü bitirince yüzüne baktım; gözlerime düşen saçları bir baş\\nişaretiyle silkeleyerek:\\n-Ne söylediğinizi dinleyemedim, efendim, fondanlar o kadar güzel ki... Mamafih, bunları görünce\\nbarıştık. Mesele yok. Çok mersi, Kâmran.\\nDinlenilmediğini zannetmesine onun galiba canı sıkılmıştı. Mamafih, o da nedense bunu bana\\nsezdirmemek istedi; içini çekerek yalancı bir somurtkanlıkla:'), Document(id='484c60fa-6103-46e2-8c54-3f888c136368', metadata={'author': 'Reşat Nuri Güntekin', 'creationdate': '2018-06-07T15:24:58+00:00', 'creator': 'calibre 1.22.0 [http://calibre-ebook.com]', 'keywords': 'Roman, Türk Klasik, Cumhuriyet Dönemi', 'page': 79, 'page_label': '80', 'producer': 'calibre 1.22.0 [http://calibre-ebook.com]', 'source': 'calikusu.pdf', 'title': 'Çalıkuşu', 'total_pages': 298}, page_content='Ben, o vakit dikkatle gözlerimi açıyor:\\n-Sahi öyle kalfa. Ben, bunu senden öğrenmeseydim, bin zahmetle satın aldığım patateslerimin\\nyarısını atacak ve ömrümün sonuna kadar farkında olmayacaktım, diyordum.\\nOndan öğreneceğim şeyleri yazmak için yanıma küçük bir not defteri koymuştum.'), Document(id='1f188c1f-b69a-4dd1-87ec-ad117d6a2b95', metadata={'author': 'Reşat Nuri Güntekin', 'creationdate': '2018-06-07T15:24:58+00:00', 'creator': 'calibre 1.22.0 [http://calibre-ebook.com]', 'keywords': 'Roman, Türk Klasik, Cumhuriyet Dönemi', 'page': 210, 'page_label': '211', 'producer': 'calibre 1.22.0 [http://calibre-ebook.com]', 'source': 'calikusu.pdf', 'title': 'Çalıkuşu', 'total_pages': 298}, page_content='ı\\nk\\nNe aksilik, Yarabbî, ne aksilik! Bugün kumandanlığın emriyle mektebi işgal ettiler. Muvakkat\\nhastane yapacaklarmış. Ne isterlerse yapsınlar, umrumda değil. Fakat mektep kurtuluncaya kadar ben\\nne yapacağım, nasıl vakit geçireceğim?\\nKu\\nş\\nadas\\nı\\n, 24 Aral\\nı\\nk\\nBugün, mektepte kalan birkaç kitabı almaya gitmiştim. Öyle bir karışıklık ki, insan, kitabını değil,\\nkendini kaybetse bulamayacak. Çaresiz geri dönüyordum. Bir hastabakıcı kadın, kapılardan biri\\naçarak:\\n-Bir kere de Başhekim Bey’e soralım. O, galiba birkaç kitap kaldırmıştı!... dedi.\\nOdanın içi şişeler, sargılar, ecza kutularıyla doluydu. Başhekim, sırtından ceketini atmış, inleye\\noflaya bu karışık şeyleri düzeltmeye çalışıyordu. Arkasını döndüğü için, yalnız boynunu, ak saçlarını\\nve sıvalı bileklerini görüyordum. Bu halde bir adamdan kitap sormak saygısızlıktı. Hastabakıcıyı\\neteğinden çektim.\\n-Vazgeçiniz, dedim. Fakat o, farkında olmadı:\\n-Beyefendi hani siz Fransızca resimli kitaplar bulmuştunuz, nerede onlar? Dedi.'), Document(id='4275ff7a-24ce-4584-a154-4ea141d6a688', metadata={'author': 'Reşat Nuri Güntekin', 'creationdate': '2018-06-07T15:24:58+00:00', 'creator': 'calibre 1.22.0 [http://calibre-ebook.com]', 'keywords': 'Roman, Türk Klasik, Cumhuriyet Dönemi', 'page': 229, 'page_label': '230', 'producer': 'calibre 1.22.0 [http://calibre-ebook.com]', 'source': 'calikusu.pdf', 'title': 'Çalıkuşu', 'total_pages': 298}, page_content='-Bu ipsiz sapsız lakırdılara tahammül edilmez ama, senin ağzından bayağı hoş oluyor, diyor.\\nDün gece, yine ona kitap okuyordum. Kitapta bazı açık sözler var. Onlar geldikçe utanıyor,\\nyerlerine süratle başka kelimeler koymaya, yahut cümleleri atlamaya çalışıyordum. Hayrullah Bey,\\nbenim telaşımı fark ediyor, gür kahkahalarla tavanları sarsıyordu.'), Document(id='cb587a01-8cc4-4c3f-a2bc-5f95947e0460', metadata={'author': 'Reşat Nuri Güntekin', 'creationdate': '2018-06-07T15:24:58+00:00', 'creator': 'calibre 1.22.0 [http://calibre-ebook.com]', 'keywords': 'Roman, Türk Klasik, Cumhuriyet Dönemi', 'page': 229, 'page_label': '230', 'producer': 'calibre 1.22.0 [http://calibre-ebook.com]', 'source': 'calikusu.pdf', 'title': 'Çalıkuşu', 'total_pages': 298}, page_content='adeta hoşuma gidiyor.\\nDoktorun çiftliği bakımsız kalmış. Fakat, ne güzel bir yer. Kışın bile buraları, bir bahara\\nbenzermiş. Hele, bir kayalık var ki, seyretmekle doyulur şey değil. Bu kayalar, güneşin sabah, öğle,\\nakşam güneşi olmasına, havanın açık, yahut kapalı bulunmasına göre renk değiştiriyor, lal kırmızısı,\\npembe, mor, beyaz yahut siyah görünüyor. Onun için buraya: “Alacakayalar” demişler.\\nÇiftlik beni umduğumdan ziyade meşgul etti. Çiftçilerle beraber süt sağıyorum. Artık, benim de\\nsamimi bir ahbabım olmaya başlayan Düldül’e binerek civar koruluklarda geziyorum. Hasılı,\\ndüşündüğüm kır hayatı.\\nMamafih, gönlüm pek rahat değil, birkaç güne kadar mektep açılacak, işimin başında bulunmam,\\nbinayı silip süpürtmem lazım. Hayrullah Bey’e söz anlatmak kabil değil ki...\\nDoktor, geceleri bana roman okutuyor.\\n-Bu ipsiz sapsız lakırdılara tahammül edilmez ama, senin ağzından bayağı hoş oluyor, diyor.\\nDün gece, yine ona kitap okuyordum. Kitapta bazı açık sözler var. Onlar geldikçe utanıyor,'), Document(id='69317f1e-93e8-4fd1-9cae-b21240fbbbb8', metadata={'author': 'Reşat Nuri Güntekin', 'creationdate': '2018-06-07T15:24:58+00:00', 'creator': 'calibre 1.22.0 [http://calibre-ebook.com]', 'keywords': 'Roman, Türk Klasik, Cumhuriyet Dönemi', 'page': 34, 'page_label': '35', 'producer': 'calibre 1.22.0 [http://calibre-ebook.com]', 'source': 'calikusu.pdf', 'title': 'Çalıkuşu', 'total_pages': 298}, page_content='hakkı ama, ne de olsa insan mahcup oluyor... Evvelki günkü kutuda bir nevi fondan vardı, inşallah\\nonlara yeni kutularda da tesadüf etmek mümkün olur... Fakat hakikaten tarifine imkân yok... insan,\\nonları ağzında eritirken yüreği de beraber eriyor.\\nKâmran:\\n-Bu sefer zannederim daha kıymetli bir şey bulacaksın, Feride, dedi.\\nYalancı bir telaş ve sabırsızlıkla onun gösterdiği kutuyu açtım, içinden iki yaldızlı kitap çıktı.\\nBunlar Noel yortularında küçük çocuklara hediye edilen resimli bebek masalları kabilinden şeylerdi.\\nKuzenim, herhalde anlamadığım bir sebeple benimle eğlenmiş olacaktı. Sırf bunun için buraya kadar\\nzahmet ettiyse ayıp doğrusu... Ona küçük bir ders vermek sırası gelmiş miydi acaba? Bilmiyorum,\\nfakat kendimi tutamadım. Boyalı dudaklarıma uymayacak bir ciddiyetle:\\n-Hediyelerin her türü için teşekkür etmek lâzım, dedim. Fakat müsaade ederseniz küçük bir römork\\nyapayım... Birkaç sene evvel siz de bir çocuktunuz. O vakit haliniz ve ağırbaşlılığınızla büyük'), Document(id='7b35df2b-6d8c-4c99-a505-231f84ecba14', metadata={'author': 'Reşat Nuri Güntekin', 'creationdate': '2018-06-07T15:24:58+00:00', 'creator': 'calibre 1.22.0 [http://calibre-ebook.com]', 'keywords': 'Roman, Türk Klasik, Cumhuriyet Dönemi', 'page': 115, 'page_label': '116', 'producer': 'calibre 1.22.0 [http://calibre-ebook.com]', 'source': 'calikusu.pdf', 'title': 'Çalıkuşu', 'total_pages': 298}, page_content='Yumruk yüzlü bir küçük kız, hepsinden cesur çıktı. Kara gözlerini yüzüme kaldırarak “Sen ne\\nbiliyorsun benim adımı?” diye hayret etti.\\nTalebelerimi birer birer sıralara oturtuyor, yerlerini bellemelerini tembih ediyordum. Zavallıların\\nhali görülecek şeydi. Bir türlü sıralara yerleşmesini beceremiyorlar, ağaç dalına yahut asma\\nçardağına oturmuş gibi garip vaziyetler alıyorlardı.\\nYanlarından ayrıldığım zaman göz ucuyla bana bakıyorlar tuhaf bir surette sallanan kirli\\nbacaklarını -kabuğuna çekilen kaplumbağalar gibi-yavaş yavaş çekerek altlarına alıyorlar. Ne\\nyapalım, yavaş yavaş alışacağız.\\nBir şey pek tuhafıma gitmişti. Utana sıkıla yanıma gelen, gözlerini kapayarak el öpen, köylü gelini\\ngibi nazlı ağızlardan bir kelime alınabilen bu çocuklar, kitaplarını açar açmaz dik bir sesle bağıra\\nbağıra okuyorlardı. Sınıf kalabalıklaştıkça gürültü artmaya, başımı iyiden iyiye sersemletmeye\\nbaşlamıştı.\\nHatice Hanım’a:\\n-Her zaman böyle bağıra çağıra mı çalışırlar? Buna dayanılır mı? diye sordum.'), Document(id='a260d4ee-fc56-45da-a7bd-0c336e36c3a8', metadata={'author': 'Reşat Nuri Güntekin', 'creationdate': '2018-06-07T15:24:58+00:00', 'creator': 'calibre 1.22.0 [http://calibre-ebook.com]', 'keywords': 'Roman, Türk Klasik, Cumhuriyet Dönemi', 'page': 72, 'page_label': '73', 'producer': 'calibre 1.22.0 [http://calibre-ebook.com]', 'source': 'calikusu.pdf', 'title': 'Çalıkuşu', 'total_pages': 298}, page_content='-İsterseniz onu size bırakayım. Sonra okursunuz. Arkadaşıma artık lüzumu kalmadı. Omuzlarımı\\nsilkerek:\\n-Bana bir faydası olmayacak dedim. Bir hatıradır; kendisinde kalması daha iyi olur. Yalnız bir\\ndakika müsaade ederseniz bir göz gezdireyim.\\nKaranlık artmıştı. Ağaçların arasından yola çıkarak mektubu gözlerime yaklaştırdım, zaten bu\\nyazıya alışık olduğum için okumaya başladım:\\n“Benim Sarı Çiçeğim” diye başlıyordu. Arkasından bir sürü edebiyat. Güneş doğmadan evvel nasıl\\ndünyaya belli belirsiz bir aydınlık yayılırsa, “Sarı Çiçeği” görmeden evvel de onun kalbine böyle bir\\naydınlık yayılmış, “içimde anlaşılmaz bir sevinç var. Ben, mutlaka fevkalâde bir şeyle\\nkarşılaşacağım!” diyormuş. Nihayet o fevkalâdelik olmuş, bir akşamüstü otelin bahçesinde ışıklar\\nyanarken “Sarı Çiçeği” karşısında görmüş...\\nOndan ötesini o kadar çabuk okuyordum ki, gözlerim gittikçe artan karanlık içinden yazıları o kadar'), Document(id='846f0dce-6bff-418b-adb2-4c7f02dfea28', metadata={'author': 'Reşat Nuri Güntekin', 'creationdate': '2018-06-07T15:24:58+00:00', 'creator': 'calibre 1.22.0 [http://calibre-ebook.com]', 'keywords': 'Roman, Türk Klasik, Cumhuriyet Dönemi', 'page': 52, 'page_label': '53', 'producer': 'calibre 1.22.0 [http://calibre-ebook.com]', 'source': 'calikusu.pdf', 'title': 'Çalıkuşu', 'total_pages': 298}, page_content='dayanır, insaf etsenize!\\nGevezeliğim tükeniyor, fakat arkam dönük olduğu halde, kuzenimi omuz başımda hissediyordum.\\nSesim kesilir kesilmez onun başlayacağına hiç şüphem yok. Ne yapmalı? Onunla yüz yüze gelmeden\\nnasıl kaçmalı?\\nEteklerime bir çocuğun sarıldığını görüyorum, koltuklarının altından tutarak havaya kaldırıyorum.\\nBu, misafirlerimin en miniminisi, yedi, sekiz yaşında bir bebekti. Yüzünü yüzüme yaklaştırarak:\\n-Hatırın kalmasın ama, seninle hiç olmaz diyorum. Bu tombul yanacıkları kanatırsak ne olur?\\nÇocuğun arkasını bir gölge kaplıyor. Bu, Kâmran’dır. Bu başı başımdan ayırır ayırmaz onunla yüz\\nyüze, göz göze geleceğime hiç şüphe yok. Artık kurtuluş çaresi kalmadı. Ondan kaçınmak, korkmak\\ndünyada kibrime yediremeyeceğim şey, onun için küçüğü kollarımdan indiriyorum ve dimdik\\nKâmran’ın gözlerine bakıyorum:\\n-Haydi küçük, Kâmran ağabeye yanaş, o, hanım gibi nazlı, nazik bir çocuktur. Ninnisi eksik bir'), Document(id='1af13d68-5600-4644-80a4-adee28d07c96', metadata={'author': 'Reşat Nuri Güntekin', 'creationdate': '2018-06-07T15:24:58+00:00', 'creator': 'calibre 1.22.0 [http://calibre-ebook.com]', 'keywords': 'Roman, Türk Klasik, Cumhuriyet Dönemi', 'page': 173, 'page_label': '174', 'producer': 'calibre 1.22.0 [http://calibre-ebook.com]', 'source': 'calikusu.pdf', 'title': 'Çalıkuşu', 'total_pages': 298}, page_content='bakanları içine çeken uçurum gibi bu org da benim tahammülümü elimden aldı. Gayri ihtiyari ayağımı\\nbastım, parmağımı tuşlardan birine koydum.\\nOrg, yaralı bir gönül gibi derin derin inledi. Odanın karanlık köşeleri, duvarlardan gölgelerini\\nuzatan sazlar, gizli figanlarla titreştiler.\\nHakikat mi, yoksa benim yaşlarla perdeli gözlerimin bir vehmi mi olduğunu söylemeyeceğim. Bana\\nöyle geldi ki hasta, bu sesle son bir defa mavi gözlerini açtı.\\nAblası yastığa yüzünü kapamış hıçkırıyordu.\\nBir mukaddes vazife yapar gibi ölünün üzerine eğildim, henüz bir hayal bakiyesiyle titriyor gibi\\ngörünen gözlerine dudaklarımı sürdüm.\\nİlk busemi ben, bir ölünün sönmüş gözlerine mi tevdi edecektim!\\nB... 2 Kas\\nı\\nm\\nBu akşam B.’deki evimde son gecem... Yarın erkenden hareket ediyorum.\\nO vakadan sonra tabii burada kalamazdım. Şehirde herkes benden bahsediyor, herkes, beni merak\\nediyor. Mektebe gidip gelirken kaç kişi peşime takıldı, kaç kişi artık iki kat örtmeye başladığım'), Document(id='a9519d19-9418-487b-90ca-f139315b5e02', metadata={'author': 'Reşat Nuri Güntekin', 'creationdate': '2018-06-07T15:24:58+00:00', 'creator': 'calibre 1.22.0 [http://calibre-ebook.com]', 'keywords': 'Roman, Türk Klasik, Cumhuriyet Dönemi', 'page': 220, 'page_label': '221', 'producer': 'calibre 1.22.0 [http://calibre-ebook.com]', 'source': 'calikusu.pdf', 'title': 'Çalıkuşu', 'total_pages': 298}, page_content='Bütün gençliğini okumakla geçirmiş. Evinde kocaman bir kütüphanesi var. Dünyada kitaptan\\nlüzumsuz, boş şey olmadığını söylüyor. Kitap yazanlar gibi, okuyanların da hayatta hiçbir şey\\ngörmeden geçip giden budalalar olduğunu iddia ediyor. Geçen gün onu kuvvetli bir itirazla mağlup\\netmek istedim.\\n-Madem ki öyle siz niçin bu kadar çok okudunuz, hatta beni de buna teşvik ediyorsunuz? dedim.\\nBu, öyle itirazdı ki, akan suları durdururdu. Fakat o, hiç bozulmadı, bilâkis, kahkahalarla gülüp,\\nbenimle eğlenerek:\\n-Daha iyi dedin ya, beni budala değil diye sana kim söyledi, küçük, dedi.\\nBu ihtiyar doktoru anlamıyorum ki... Her neyi severse aleyhinde bulunuyor. Hatta öyle\\nhissediyorum ki, beni bile azarladığı zaman her zamankinden daha çok seviyor.\\nHastaneyi bıraktığı günden beri kâh günlerce evine kapanarak kitap okuyor, kâh askerlikten kalma\\nçizmelerini çekiyor, sırtına jandarma gibi bir tüfek takarak Düldül’e biniyor: (düldül, onun pek'), Document(id='a757cc5b-e151-4318-9dec-aa7909615f51', metadata={'author': 'Reşat Nuri Güntekin', 'creationdate': '2018-06-07T15:24:58+00:00', 'creator': 'calibre 1.22.0 [http://calibre-ebook.com]', 'keywords': 'Roman, Türk Klasik, Cumhuriyet Dönemi', 'page': 154, 'page_label': '155', 'producer': 'calibre 1.22.0 [http://calibre-ebook.com]', 'source': 'calikusu.pdf', 'title': 'Çalıkuşu', 'total_pages': 298}, page_content='sabah işe başlarsınız, olur mu?\\nHayatın, bir felaketten sonra daima bir saadet verdiğini, o güzel darbımeselin söylediği gibi, ayın\\non beşi karanlıksa, on beşinin mutlaka aydınlık olacağını bilmiyor değildim. Fakat, bu mehtabın bu\\nkadar koyu bir karanlıktan, bu kadar umulmaz bir dakikada doğacağını aklıma getiremezdim.\\nMunise tekrar gözlerimin önüne geldi. Fakat bu sefer bir otel odasında minimini keçisiyle oynayan\\nfakir bir çocuk değil, güzel bir evin çiçekli bahçesinde çember çeviren şık bir küçük hanım gibi.\\nAyrıldığımız zaman Kristiyan, beni bir köşeye çekti:\\n-Feride, sana onu soracağım. Sen nişanlıydın, niçin evlenmedin?\\n-Cevap vermiyorsun, nişanlın şimdi nerede? Başımı önüme eğdim, gayet yavaş:\\n-Geçen sonbahar onu kaybettik, dedim. Bu cevap, Kristiyan’a çok tesir etti.\\n-Nasıl Feride, doğru mu söylüyorsun? dedi. Ah, zavallı Çalıkuşu!... Hangi rüzgârın seni buraya\\nattığını şimdi anlıyorum.\\nSımsıkı bileklerimi tutan elleri titriyordu:'), Document(id='0443f561-b7e6-4578-801b-9f7074009f7d', metadata={'author': 'Reşat Nuri Güntekin', 'creationdate': '2018-06-07T15:24:58+00:00', 'creator': 'calibre 1.22.0 [http://calibre-ebook.com]', 'keywords': 'Roman, Türk Klasik, Cumhuriyet Dönemi', 'page': 261, 'page_label': '262', 'producer': 'calibre 1.22.0 [http://calibre-ebook.com]', 'source': 'calikusu.pdf', 'title': 'Çalıkuşu', 'total_pages': 298}, page_content='ruhuna gıda yapan bir hayalperest için bu kadar ümit, bu kadar acı fazlaydı. Uzun baygınlıklardan\\nuyanmış hastaların hiçbir şey anlamayan, düşünmeyen gözleriyle karanlığın içinde etrafına bakınıyor,\\nsık sık göz kapaklarını açıp kapıyordu.\\nMüjgân, atkısının içinden kırmızı mumla mühürlü bir büyük zarf çıkardı:\\n-Feride’ye verdiğim vaade rağmen onu sana şimdi teslim ediyorum, dedi.\\nTekrar atkısını düzelterek odadan çıkmaya hazırlanıyordu. Kâmran, eliyle onu men etti:\\n-Müjgân, masanın üstünde duran sönmüş lambayı yakarken, Kâmran zarfı açtı. içinden bir mektupla\\nikinci bir büyük zarf çıktı. Kalın bir yazı ile yazılmış olan mektup, Kâmran’a hitâb ediyordu.\\n“Kâmran Bey o\\nğ\\nlum,\\nSize bu kâ\\nğı\\nd\\nı\\n \\nyazan adam, ömrünün biraz\\nı\\nn\\nı\\n \\nkitaplar\\nı\\nna, bir parças\\nı\\nn\\nı\\n \\nda hayat denilen bu kör\\ndo\\nğ\\nu\\nş\\nun yaral\\nı\\nlar\\nı\\nna vakfetmi\\nş\\n \\nmünzevi, merdümgiriz bir ihtiyard\\nı\\nr ki, mektubunun elinize\\nde\\nğ\\nmesinden epeyce zaman evvel dünyaya ‘Yuf borusunu’ öttürmü\\nş\\n \\nolacak. Pek sevgili bir'), Document(id='ee89e15d-f8b7-4bb9-9f08-5155b9aae415', metadata={'author': 'Reşat Nuri Güntekin', 'creationdate': '2018-06-07T15:24:58+00:00', 'creator': 'calibre 1.22.0 [http://calibre-ebook.com]', 'keywords': 'Roman, Türk Klasik, Cumhuriyet Dönemi', 'page': 170, 'page_label': '171', 'producer': 'calibre 1.22.0 [http://calibre-ebook.com]', 'source': 'calikusu.pdf', 'title': 'Çalıkuşu', 'total_pages': 298}, page_content='Bu akşam, mektepten döndüğüm vakit benim de aşağı yukarı onlardan kalır yanım yoktu.\\nSırılsıklam olmuştum. Çarşafım vücuduma, peçem yüzüme yapışıyor, sokakta rast geldiğim insanları\\nhalime güldürüyordu,\\nMunise’nin, bu akşam benzi biraz soluktu. Nezle olmasından korkarak erkenden, zorla yatağa\\nyatırmış, ıhlamur kaynatmıştım. Yaramaz kız, yatakta şikâyet ediyor, benim ihtimamlarımla eğlenerek:\\n-Abacığım, soğuk, insana ne yapar? Geçen sene karda, samanlıkta yattığım geceyi unuttun mu?\\ndiyordu.\\nBu gece, hiç uykum yoktu. Munise’yi uyuttuktan sonra elime bir kitap alarak sedire uzandım.\\nYağmurun saçaklarda, su oluklarında çıkardığı sesleri, on beş günden beri bitmeyen bu matemi\\ndinlemeye başladım. Ne kadar vakit geçmişti, bilmiyorum? Birdenbire hızlı hızlı kapı çalındı. Bu\\nsaatte kim olabilir?\\nKapıyı açmaya cesaret edemedim. Misafir odasının cumbasından uzandım. Karanlığın içinde uzun\\nboylu bir kadın hayaleti, cumbanın altında yağmurdan korunmaya çalışıyor, elindeki muşamba'), Document(id='8d542ce2-b959-44fa-8859-1c8f0f6feba9', metadata={'author': 'Reşat Nuri Güntekin', 'creationdate': '2018-06-07T15:24:58+00:00', 'creator': 'calibre 1.22.0 [http://calibre-ebook.com]', 'keywords': 'Roman, Türk Klasik, Cumhuriyet Dönemi', 'page': 147, 'page_label': '148', 'producer': 'calibre 1.22.0 [http://calibre-ebook.com]', 'source': 'calikusu.pdf', 'title': 'Çalıkuşu', 'total_pages': 298}, page_content='İşte bu fevkalâde ihtiyaçlar karşısında her başım sıkıştığında bu keseye el atmıştım. Fakat, şimdi bu\\nzavallı torbacık da öyle hafiflemişti ki, içindekilerini saymaya cesaret edemiyordum. Demek, beş\\nayın bütün macerasına, bütün yorgunluklarına rağmen beni yaşatan yine ailemin yardımı olmuştu.\\nPencereden giren çınar yapraklarıyla oynayarak bunu düşünürken hem güleceğim hem de\\nağlayacağım geliyordu. Mamafih, yine bir teselli icat ettim.\\n“Üzülme Çalıkuşu, hiçbir şey kazanamadınsa, geçinmenin, yaşamanın ve tahammül etmenin ne\\nolduğunu da mı öğrenmedin? Bu az kazanç mı? Bundan sonra artık çocukluğu bırakır, kadın kadıncık\\nolursun kızım!” dedim.\\nBen, böyle düşünürken boş sofada, birdenbire bir telaş uyandı. İhtiyar bir hademe, bir elinde bir\\npalto, bir elinde bir bastonla Maarif Müdürü’nün odasına doğru koşuyordu.\\nBirkaç dakika sonra minimini boylu müdürün azametli boynunu yükseltip tek gözlüğünü parlatarak'), Document(id='bbf9fcf1-7cba-4433-94d7-b406e4c67297', metadata={'author': 'Reşat Nuri Güntekin', 'creationdate': '2018-06-07T15:24:58+00:00', 'creator': 'calibre 1.22.0 [http://calibre-ebook.com]', 'keywords': 'Roman, Türk Klasik, Cumhuriyet Dönemi', 'page': 112, 'page_label': '113', 'producer': 'calibre 1.22.0 [http://calibre-ebook.com]', 'source': 'calikusu.pdf', 'title': 'Çalıkuşu', 'total_pages': 298}, page_content='bana öğretmediler, işittim ki, sen yedi sene güneş görmeden, burada çile doldurmuşsun. Sakın sen de,\\ninsanlığın zalimliğinden, vefasızlığından kaçmış olmayasın? Babacığım, senden büyük bir şey\\nisteyeceğim. Bu yedi sene içinde elbette güneşin, rüzgârların hasretini çektiğin zamanlar olmuştur.\\nSeni o dakikaların acısına katlandıran o melek sabrından bana da ver inlemeden, ağlamadan çilemi\\ndoldurayım!..”\\nOdamda yalnızım. Hatice Hanım, erkenden beni bıraktı. Mektebin alt katındaki, bodrum gibi\\nizbesine çekildi. Orada gece yarısına kadar ibadet eder, tesbih çekermiş.\\nİki saatten beri lambanın ışığında bu satırları yazıyorum. Dışarıdan, uzak bir su sesi geliyor, ara\\nsıra tavanda tıkırtılar oluyor. Ensemde hafif bir üşüme hissi ile kulak veriyorum. O vakit, harap\\nbinanın içinde, daha başka sesler duymaya başlıyorum. Merdiven tahtaları yavaşça gıcırdıyor, sofada\\ninsanlar fısıldaşıyor gibi sesler uyanıyor.'), Document(id='6a2b05af-a8d5-4934-bb61-108c3757e31e', metadata={'author': 'Reşat Nuri Güntekin', 'creationdate': '2018-06-07T15:24:58+00:00', 'creator': 'calibre 1.22.0 [http://calibre-ebook.com]', 'keywords': 'Roman, Türk Klasik, Cumhuriyet Dönemi', 'page': 76, 'page_label': '77', 'producer': 'calibre 1.22.0 [http://calibre-ebook.com]', 'source': 'calikusu.pdf', 'title': 'Çalıkuşu', 'total_pages': 298}, page_content='Fakat kararımı bir çocuk deliliği, şımarık bir kız nazı sanacaklar; beni de, kendilerini de boş yere\\nüzeceklerdi.\\nOnları bu fikirden vazgeçirmek, hatta, bir daha adımı anmaya tövbe ettirmek için yarın teyzeme\\nnasıl bir mektup yazacağımı biliyordum. Fakat, bu gece nerede barınacaktım?\\nEvvela, aklıma, civar köşklerde oturan bazı arkadaşlarım geldi. Beni muhakkak ki iyi\\nkarşılayacaklardı. Fakat, yaptığım az çok bir rezaletti. Bu vaziyette bir kızı bir gececik olsun evlerine\\nkabul etmek, belki tuhaflarına gidecekti. Sonra bu fevkalâdeliği izah için onlara bir şey söylemek\\nlâzım gelecekti. Yabancılara hesap vermenin ve onlardan nasihat dinlemenin gücüme gideceğini\\nhissediyordum. Nihayet, ilk aklıma gelen isimler tabiatıyla evdekilerin de aynı kolaylıkla düşüneceği\\nisimler olacak. Beni aramaya, en evvel onlardan başlayacaklardır. Arkadaşlarımın aileleri gece\\nyarısı telaş içinde beni sormaya gelen aileme, benim hatırım için “Burada yok” demeye cesaret\\nedebilecekler miydi?'), Document(id='1f131eab-e92a-4a11-a071-6bfe8eaea512', metadata={'author': 'Reşat Nuri Güntekin', 'creationdate': '2018-06-07T15:24:58+00:00', 'creator': 'calibre 1.22.0 [http://calibre-ebook.com]', 'keywords': 'Roman, Türk Klasik, Cumhuriyet Dönemi', 'page': 7, 'page_label': '8', 'producer': 'calibre 1.22.0 [http://calibre-ebook.com]', 'source': 'calikusu.pdf', 'title': 'Çalıkuşu', 'total_pages': 298}, page_content='BİRİNCİ KISIM\\nDÖRDÜNCÜ sınıftaydım. Yaşı\\nm oniki kadar olmalı. Fransızca muallimimiz Sör Aleksi, bir gün\\nbize yazı vazifesi vermişti. “Hayattaki ilk hatıralarınızı yazmaya çalışın. Bakalım neler bulacaksınız?\\nSizin için güzel bir hayat temini olur,” demişti.\\nHiç unutmam; yaramazlığımdan, gevezeliğimden bıkan öğretmenler, o sınıfta beni arkadaşlarımdan\\nayırmışlar, bir köşede tek kişilik bir küçük sıraya oturtmuşlardı.\\nMüdirenin söylediğine göre, ders esnasında komşularımı lakırdıya tutmamayı, uslu uslu muallimi\\ndinlemeyi öğreninceye kadar orada bir sürgün hayatı geçirmeye mahkûmdum.\\nBir yanımda kocaman bir tahta direk vardır. Ne yapılsa sınıftan çıkarılmasına imkân olmayan ve\\nara sıra çakımın ucuyla ötesine berisine açtığım yaracıklara stoik bir vakarla tahammül eden sessiz\\nsedasız, ağırbaşlı ve upuzun bir komşu.\\nÖte yanımda manastır terbiyesinin istediği serin ve mağrur loşluğu temin için yapılmışa benzeyen'), Document(id='8fc7eb3d-ea8b-4e78-8886-a7510fa90c07', metadata={'author': 'Reşat Nuri Güntekin', 'creationdate': '2018-06-07T15:24:58+00:00', 'creator': 'calibre 1.22.0 [http://calibre-ebook.com]', 'keywords': 'Roman, Türk Klasik, Cumhuriyet Dönemi', 'page': 97, 'page_label': '98', 'producer': 'calibre 1.22.0 [http://calibre-ebook.com]', 'source': 'calikusu.pdf', 'title': 'Çalıkuşu', 'total_pages': 298}, page_content='Yalnızlıktan o kadar bunalmışım ki, bu ses beni adeta sevindiriyor. Kalemimi bırakarak, ağrıyan\\nparmaklarımı birkaç kere sallıyorum ve komşumun artık ezberlediğim sırnaşık aşkının hikâyesini\\nzevkle dinlemeye hazırlanıyorum.\\nPenceremin karşısında dimdik yükselen dağın manzarası ilk günlerde beni eğlendiriyordu. Fakat,\\nondan da yorulmaya başladım, insan, bu dumanlı yamaçların rüzgârı içinde saçı başı dağınık, etekleri\\nuçarak dolaşmadıkça, yalçın kayalar üstünde, keçi yavruları gibi sıçrayıp eğlenmedikçe neye yarar?\\nNerede o, başımı alıp saatlerce kırlarda dolaştığım, bahçe kenarındaki çitlere değneklerle vurarak,\\nsık yapraklı ağaçları taşlayarak kuş kaldırdığım günler! Halbuki ben, Anadolu’yu asıl bunun için\\nistiyordum.\\nKüçükten beri resim yapmayı çok severim. Mektepte tam not aldığım hemen tek ders o idi. Köşkte\\ntertemiz oda duvarlarına, mektepte heykellerin mermer kaidelerine, kurşun, yahut boya kalemleriyle'), Document(id='ccd51a90-7e29-457d-bc51-31e6df144c81', metadata={'author': 'Reşat Nuri Güntekin', 'creationdate': '2018-06-07T15:24:58+00:00', 'creator': 'calibre 1.22.0 [http://calibre-ebook.com]', 'keywords': 'Roman, Türk Klasik, Cumhuriyet Dönemi', 'page': 3, 'page_label': '4', 'producer': 'calibre 1.22.0 [http://calibre-ebook.com]', 'source': 'calikusu.pdf', 'title': 'Çalıkuşu', 'total_pages': 298}, page_content='Eski Şarkı\\nBir Köy Öğretmeni\\nYaprak Dökümü\\nTercümeleri :\\nHz. Muhammed’in Hayatı\\nBir Fakir Delikanlı, (Emil Dergmenheim’den)\\nLa Dam O Kamelya, (A. Dumas Fils)\\nKahramanlar, (Cariyi)\\nDon Kişot, (Cervantes Saavedra)\\nEvham\\nHakikat, (Emil Zola)\\nYabancı itiraflar (J. J. Rousseau)\\nAtlı Adam'), Document(id='edf43a81-db3c-4be5-9cbf-16571034b914', metadata={'author': 'Reşat Nuri Güntekin', 'creationdate': '2018-06-07T15:24:58+00:00', 'creator': 'calibre 1.22.0 [http://calibre-ebook.com]', 'keywords': 'Roman, Türk Klasik, Cumhuriyet Dönemi', 'page': 149, 'page_label': '150', 'producer': 'calibre 1.22.0 [http://calibre-ebook.com]', 'source': 'calikusu.pdf', 'title': 'Çalıkuşu', 'total_pages': 298}, page_content='o, paparadan sonra birkaç gün sakinler, kendinin de kafası dinlenir, bizim de...\\nSes kesilmişti: Kâtipler, hemen masalarına koştular. Hafız Efendi, kendi kendine:\\n-Bu, meseldir; dinsizin hakkından imansız gelir, diye bir şeyler mırıldanıyordu.\\nBaşkâtip, ayaklarıyla beraber sakalı da titreyerek içeri girdi. Başını çevirmeden yanlarına bakan\\nkazlar gibi, gözlerinden birinin yan bakışıyla kâtipleri süzdü. Onlar, öyle sakin ve sessiz\\nçalışıyorlardı ki, müsterih oldu, yavaş yavaş söylenerek yerine oturdu. Mamafih çalışamıyordu.\\nBirkaç kere uflayıp pufladıktan sonra yavaş sesle söylenmeye başladı.\\n-Elli yaşına gelmiş, bunca memuriyetlerde bulunmuş, muameleye bizim baş hademe kadar aklı\\nermiyor bu teresin. Kendi yarın cehennem olur gider, kabak bizim başımıza patlar. Öyle ya, günün\\nbirinde başımıza bir müfettiş ekşise, muamelatı bir gözden geçirse: “Be herifler, siz eşek başı\\nmısınız? Bu iki yüz elli kuruşun mahsubu niçin yapılmamış? Sizin bu usulsüzlüğü niye gözünüz'), Document(id='74bce15b-4d12-4411-b874-9c47c6264b98', metadata={'author': 'Reşat Nuri Güntekin', 'creationdate': '2018-06-07T15:24:58+00:00', 'creator': 'calibre 1.22.0 [http://calibre-ebook.com]', 'keywords': 'Roman, Türk Klasik, Cumhuriyet Dönemi', 'page': 161, 'page_label': '162', 'producer': 'calibre 1.22.0 [http://calibre-ebook.com]', 'source': 'calikusu.pdf', 'title': 'Çalıkuşu', 'total_pages': 298}, page_content='cantique’lerden birini çalmaya başladım.\\nOrg inledikçe yavaş yavaş kendimi kaybediyor, ağır bir rüya içine gömülmeye başlıyordum.\\nMektebimin loş koridorları gözlerimin önünde açılıyor, siyah önlüklü, kesik saçlı arkadaşlarım,\\nkafile kafile bu dehlizden geçiyordu. Ne vakitten beri burada olduğumu, neler çaldığımı bilmiyordum.\\nEski günlerimin eski rüyasına tamamıyla kendimi terk etmiştim.\\nArkamda derin bir ah, yapraklar içinden rüzgâr geçmesine benzer bir ses işittim. Hafifçe titreyerek\\nbaşımı çevirdim. Karanlıkta gözüme Şeyh Yusuf Efendi’nin sarışın siması göründü. Kırık bir dolaba\\ndayanmış, boynunu bükmüş, mavi gözlerinde ağır bir melâl ile beni dinliyordu.\\n-Devam et yavrum, devam et, rica ederim, dedi.\\nCevap vermedim. Orgun üzerine başımı daha ziyade eğerek gözlerimden akan yaşlar kuruyuncaya\\nkadar çaldım. Sonra göğsümde tutuk nefeslerle yorgun, bitkin bir halde durdum.\\n-Sizde ne derin bir istidad-ı musiki, ne hassas bir kalp varmış Feride Hanım! Bir çocuk ruhunun bu'), Document(id='9fd6fbac-6eaa-43c6-9f5f-8a736d530b66', metadata={'author': 'Reşat Nuri Güntekin', 'creationdate': '2018-06-07T15:24:58+00:00', 'creator': 'calibre 1.22.0 [http://calibre-ebook.com]', 'keywords': 'Roman, Türk Klasik, Cumhuriyet Dönemi', 'page': 149, 'page_label': '150', 'producer': 'calibre 1.22.0 [http://calibre-ebook.com]', 'source': 'calikusu.pdf', 'title': 'Çalıkuşu', 'total_pages': 298}, page_content='Sarıklı kâtip sevincinden, genç kâtibin sırtına vuruyor:\\n-Allah senden razı olsun Müdür Bey, şu teresi bir kalayla, dinsizin hakkından imansız gelir,\\ndiyordu. Maarif Müdürü başkâtibe şöyle söylüyordu.\\n-Bıktım efendim senden, bıktım senden. Bu, ne şekilperestlik, bu ne küflenmiş kırtasiyeci kafası.\\nHakkı var kadının Sana kaç senelik senedi yaratacak hali yok ya. Aklın ermiyorsa git, çık git.\\nİstediğin yere kadar yolun açık. Zaten sen gitmezsen, ben seni taburcu edeceğim. Hay, hay, derhal yaz\\nistifanı. Yazmazsan adam değilsin.\\nEyvah yüreğime iniyordu. Kâtiplere:\\n-Yok hemşire hanım, yok! dedi. Aldırış etme. Müstahaktır o terese, ikide birde kendinden daha\\nedepsiz biri çıkıp ağzının payını vermezse rahat etmez, it dişi, köpek dirisi. Allah senden razı olsun,\\no, paparadan sonra birkaç gün sakinler, kendinin de kafası dinlenir, bizim de...\\nSes kesilmişti: Kâtipler, hemen masalarına koştular. Hafız Efendi, kendi kendine:'), Document(id='6dc89d4e-581b-4237-a692-a96534498e10', metadata={'author': 'Reşat Nuri Güntekin', 'creationdate': '2018-06-07T15:24:58+00:00', 'creator': 'calibre 1.22.0 [http://calibre-ebook.com]', 'keywords': 'Roman, Türk Klasik, Cumhuriyet Dönemi', 'page': 153, 'page_label': '154', 'producer': 'calibre 1.22.0 [http://calibre-ebook.com]', 'source': 'calikusu.pdf', 'title': 'Çalıkuşu', 'total_pages': 298}, page_content='Tabii, ona bakmıyordum. Fakat, hani bazen insanın yüzünde böcek dolaşır da tuhaf ürperme olur,\\nonun gözlerinin de böyle bir böcek gibi yüzümde dolaştığını bakmadan hissediyor, rahatsız\\noluyordum.\\nKristiyan’ın merakını yatıştırmak için, şu şekilde izahat vermeye mecbur oldum:\\n-Bütün bunlarda şaşılacak bir şey yoktur, herkesin bir şeye heves ettiği gibi, ben de hocalığa heves\\nettim. Gönlümün rızasıyla bu vilayette çalışmak, memleketin çocuklarına hizmet etmek istedim.\\nHayatımdan memnunum, herhalde yelkenli kayık ile dünya seyahatine çıkmak kadar tehlikeli bir\\nkapris değil. Şaşıyorum; bunun ne kadar tabii bir şey olduğunu bir türlü anlamak istemiyorsun.\\nMösyö Piyer For, kuvvetli bir ses ve ukala bir tavırla:\\n-Ben anlıyorum matmazel, dedi. Ruhun böyle ince elan’larını Kristiyan da şüphesiz çok iyi anlar.\\nFakat, birdenbire kendisini toplayamadı. Benim bundan çıkardığım netice şudur ki, İstanbul’da iyi bir'), Document(id='1b535729-2eaf-4c02-a616-dbd2160e5f51', metadata={'author': 'Reşat Nuri Güntekin', 'creationdate': '2018-06-07T15:24:58+00:00', 'creator': 'calibre 1.22.0 [http://calibre-ebook.com]', 'keywords': 'Roman, Türk Klasik, Cumhuriyet Dönemi', 'page': 253, 'page_label': '254', 'producer': 'calibre 1.22.0 [http://calibre-ebook.com]', 'source': 'calikusu.pdf', 'title': 'Çalıkuşu', 'total_pages': 298}, page_content='vermek mecburiyetinde kalıyordu. Çıplak bir tepeciğin kenarında kocaman bir kaya kovuğu gördü.\\nYanında bitmiş cılız bir ağaç, mütemadiyen çırpınıyor, sıska kollarını sallıyordu. Kâmran, yolunu\\nçevirerek oraya gitti. Kayanın bir köşesini rüzgâra karşı siper ederek oturdu.\\nBu kadar gürültüye, bu kadar çırpınmaya rağmen etraf bugün bomboş görünüyordu... Bomboş,\\ndümdüz, tıpkı bir çöl gibi.\\nTabiatı, hiçbir gün bu kadar ruhsuz, onun güzel şeylerini bu kadar lüzumsuz, hayatı bu kadar\\nümitsiz görmemişti!\\nTa uzaktan yolun, suların içinden geçiyor gibi görünen denize yakın bir noktasında renkli bir kadın\\nhayali fark etti. Hiç sebepsiz yokuştan indi, ona doğru yürümeye başladı.\\nBiraz sonra, Nermin’in gülkurusu çarşafını tanıdı. Genç kız da onu görmüş olacak ki, uzaktan\\nşemsiyesini sallıyordu?\\nNermin, niçin ötekilerden ayrılmıştı, niye yalnız geliyordu? Bunu merak ederek daha hızlı\\nyürümeye başladı.'), Document(id='30adc57e-f79d-49e3-8b16-2920e4cd2b17', metadata={'author': 'Reşat Nuri Güntekin', 'creationdate': '2018-06-07T15:24:58+00:00', 'creator': 'calibre 1.22.0 [http://calibre-ebook.com]', 'keywords': 'Roman, Türk Klasik, Cumhuriyet Dönemi', 'page': 236, 'page_label': '237', 'producer': 'calibre 1.22.0 [http://calibre-ebook.com]', 'source': 'calikusu.pdf', 'title': 'Çalıkuşu', 'total_pages': 298}, page_content='günden beri bu son yaprak da sarardı. Ne yapalım, hayat böyleymiş! Buna da katlanmak lâzım.\\nKarınca ayağı gibi minimini yazılarla dolan mektep defterimin son sayfalarına geldim. Ne hazin\\ntesadüf! Sergüzeştimle beraber defter de bitiyor. Yeni bir deftere yeni hayatımı yazmaya başlamak\\nmümkün değil, artık söyleyecek neyim kalıyor ki? Hem yarın başkasının karısı olduktan sonra buna ne\\nhakkım, ne cesaretim olacak. Öbür sabah başkasının odasında uyanacak genç kadının, hayatı bir parça\\nnağme, birkaç damla gözyaşından ibaret olan Çalıkuşu ile ne alakası kalacak?'), Document(id='f9268f81-b6d4-42e6-aeb2-7f40db528892', metadata={'author': 'Reşat Nuri Güntekin', 'creationdate': '2018-06-07T15:24:58+00:00', 'creator': 'calibre 1.22.0 [http://calibre-ebook.com]', 'keywords': 'Roman, Türk Klasik, Cumhuriyet Dönemi', 'page': 105, 'page_label': '106', 'producer': 'calibre 1.22.0 [http://calibre-ebook.com]', 'source': 'calikusu.pdf', 'title': 'Çalıkuşu', 'total_pages': 298}, page_content='Zavallı kadın her tekmeden, yılan gibi ıslık çalarak inen her kamçıdan sonra inleyerek tahtaların\\nüzerine yuvarlanıyor, fakat inanılmaz bir kuvvetle yine yerinden kalkarak zabitin dizlerine\\ntırmanıyordu: “Kulun kurbanın olayım efendiciğim, öldür beni, lâkin bırakma, boşama!...”\\nYarı çıplak olduğum için tekrar odama girmiştim. Zaten öyle olmasa da elimden ne gelirdi?\\nAlt katta yatanlar da uyanmış olacaklardı. Aşağı sofadan ayak patırtıları, anlaşılmaz sesler\\ngeliyordu.\\nSofanın tavanında bir aydınlık gezinmeye başlamıştı. Merdiven aralığında Hacı Kalfa’nın çıplak\\nbaşı parladı. Adamcağız, gürültüyü işiterek uyanmış, bir teneke lamba yakalayarak don gömlek dışarı\\nfırlamıştı.\\nİhtiyar odacı: “Ne ayıptır, ne rezalettir, otelde bu olur mu?!” diye bağırarak aralarına girmek\\nistedi. Fakat zabit, Hacı Kalfa’nın karnına çizmeli ayağıyla öyle bir tekme savurdu ki, biçare adeta\\nkocaman bir futbol topu gibi havaya fırladı ye aralık kapıdan sırtüstü odama yuvarlanarak çıplak'), Document(id='67aed681-bcca-4108-8a90-dacf09437117', metadata={'author': 'Reşat Nuri Güntekin', 'creationdate': '2018-06-07T15:24:58+00:00', 'creator': 'calibre 1.22.0 [http://calibre-ebook.com]', 'keywords': 'Roman, Türk Klasik, Cumhuriyet Dönemi', 'page': 79, 'page_label': '80', 'producer': 'calibre 1.22.0 [http://calibre-ebook.com]', 'source': 'calikusu.pdf', 'title': 'Çalıkuşu', 'total_pages': 298}, page_content=\"bir memlekete gideceğim. Elimin emeğiyle yaşayacağım.\\nBen, böyle söylerken, kadıncağızın gözleri doluyor, ellerimi okşayıp yanaklarına, dudaklarına\\nsürerek:\\n-Bu ellere kıyabilir miyim ben? diyordu.\\nKalfayı dizlerimin üstüne oturtup hoplatarak, buruşuk yanaklarını çekiştirerek anlattım ki, o eller\\niçin şimdilik fazla bir tehlike yoktur. Yaramazlık eden birkaç küçüğün ara sıra kulaklarını çekmekten\\nbaşka bir şeyde kullanılacak değildir.\\nAnadolu’da nasıl hocalık edeceğimi, neler yapacağımı öyle neşe ile anlatıyordum ki, nihayet, o da,\\nbenim heyecanıma kapıldı. Yeşil bir bürümcüğe sarılı küçük Mushaf'ını duvardan indirdi ve onun\\nüzerine yemin etti ki, burada misafir kaldığım müddetçe, beni ele vermeyecektir. Öte taraftan beni\\naramaya gelenler olursa, kapıdan çevirecektir.\\nO gün akşama kadar, Gülmisal Kalfa ile ev işi gördük. Ben, şimdiye kadar hep hazırdan yemiştim.\\nBir gün bir yumurta bile pişirmemiştim. Bu, artık değişmeliydi. Bundan sonra, aşçıyı hizmetçiyi\"), Document(id='d3aad829-ce0f-44ee-9e11-e42e75e50335', metadata={'author': 'Reşat Nuri Güntekin', 'creationdate': '2018-06-07T15:24:58+00:00', 'creator': 'calibre 1.22.0 [http://calibre-ebook.com]', 'keywords': 'Roman, Türk Klasik, Cumhuriyet Dönemi', 'page': 177, 'page_label': '178', 'producer': 'calibre 1.22.0 [http://calibre-ebook.com]', 'source': 'calikusu.pdf', 'title': 'Çalıkuşu', 'total_pages': 298}, page_content='alabildiğine uzanıp giden kırık sütunlara benzetiyor. Derenin öbür kıyısında etrafları çitlerle\\nçevrilmiş, sıra sıra bahçeler, o bahçelerin arasında gölgelere boğulmuş incecik yollar var. Karşıdan\\nbu yollara bakarken bana öyle geliyor ki, onlar insanı, bildiğimiz dünyadan başka yerlere götürecek,\\nen umulmaz emellere kavuşturacak.\\nMemleketin zenginleri, Hastalar Tepesi isminde bir yerde oturuyorlar, ismi fena ama kendi en şen,\\nen mesut insanların yeri. Geldiğim vakit, bana orada güzel bir ev göstermişlerdi. Fakat cesaret\\nedememiştim. Şimdi B.’deki kadar zengin değildim. Daha fakirane yaşamaya, daha küçük bir evde\\noturmaya mecburum. Mamafih, şimdiki evim de pek fena yerde değil. Meydanlığı, kahvesi,\\ndükkânlarıyla kasabanın pek işlek bir yerinde. Mesela sabahleyin Söğütlük’e giden bütün Ç... halkı\\nönümüzden geçti. Şimdi, vakit daha erken olmakla beraber, dönüş başladı. Biraz evvel Söğütlük’ten\\nbir zabit kafilesi dönüyordu. Acele acele karşıdan gelen bir mülazımla konuşmak için durdular.'), Document(id='14593e58-e42a-4a72-ae40-362d8677035e', metadata={'author': 'Reşat Nuri Güntekin', 'creationdate': '2018-06-07T15:24:58+00:00', 'creator': 'calibre 1.22.0 [http://calibre-ebook.com]', 'keywords': 'Roman, Türk Klasik, Cumhuriyet Dönemi', 'page': 220, 'page_label': '221', 'producer': 'calibre 1.22.0 [http://calibre-ebook.com]', 'source': 'calikusu.pdf', 'title': 'Çalıkuşu', 'total_pages': 298}, page_content='Hastaneyi bıraktığı günden beri kâh günlerce evine kapanarak kitap okuyor, kâh askerlikten kalma\\nçizmelerini çekiyor, sırtına jandarma gibi bir tüfek takarak Düldül’e biniyor: (düldül, onun pek\\nsevdiği emektar atıdır) bu kıyafetle köylerde bakacak hasta, kendini meşgul edecek bir iş aramaya\\ngidiyor.\\nEvinde seksenlik bir sütanne ile “Odabaşı” diye çağırdığı topal bir bahçıvan var.\\nÜç gün evvel benimle Munise’yi evine davet etmişti. Pek keyifliydi. Ben, kütüphaneyi karıştırırken\\no, Munise ile saatlerce çocuk gibi oyun oynadı. Munise’ye öyle ciddi emirler veriyordu ki, gülmekten\\nbayılıyordum:\\n-Şimdi saklambaç oynayacağız, lâkin güç yere saklanmak yok ha, parmak kadar vücudun var. Bir\\nyere sıkışırsın, saatlerce beni yorarsın. Sonra, beni bulamazsan, merak etme ha, belki saklandığım\\nyerde uyur kalırım.\\nMunise’yi birkaç güne kadar çarşafa sokuyorum. Şöyle böyle on dördüne giriyor. Boyu şimdi tam\\nbenim boyum kadar. Küçük çiçekler gibi açıldı, beyaz denecek kadar açık sarı saçlarının içinde'), Document(id='34ac0a1b-f836-4ad2-bb56-35a52b6dca96', metadata={'author': 'Reşat Nuri Güntekin', 'creationdate': '2018-06-07T15:24:58+00:00', 'creator': 'calibre 1.22.0 [http://calibre-ebook.com]', 'keywords': 'Roman, Türk Klasik, Cumhuriyet Dönemi', 'page': 26, 'page_label': '27', 'producer': 'calibre 1.22.0 [http://calibre-ebook.com]', 'source': 'calikusu.pdf', 'title': 'Çalıkuşu', 'total_pages': 298}, page_content='“nihayet aklı başına geldi, bu fena kadına güzel bir tokat atacak!” Diyorum. Kâmran bunu yapsa ben\\nde ağlayarak kendimi ağaçtan atacağım, onunla ölünceye kadar barışacağım. Fakat o canavar, bunu\\nyapmadı. Sıska kollarından, bembeyaz kız ellerinden umulmaz bir kuvvetle onu evvela omuzlarından,\\nsonra bileklerinden yakaladı. Kucak kucağa, soluk soluğa boğuşuyorlardı. Çınar yaprakları arasında\\nkaçan ay ışıklarından saçlarının birbirine karıştığını görüyordum.\\nNe rezalet Yarabbî, ne rezalet! Bütün vücudum zangır zangır titriyordu. Biraz önce onlara güzel bir\\noyun oynamaya karar verdiğim halde şimdi beni sezmelerinden ödüm kopuyordu. Sahici bir kuşla yer\\ndeğiştirip bu dalların üstünden gökyüzüne kanatlanmayı, yukarıdaki ay illerinde kaybolup giderek bu\\ndünyadaki insanların yüzlerini artık görmemeyi ne kadar istiyordum.\\nDudaklarımı parmaklarımla sıkmama rağmen, ağzımdan bir ses çıktı. Bu, galiba bir feryattı. Fakat'), Document(id='897809f6-8e72-4cc8-a8f4-017228e2aa20', metadata={'author': 'Reşat Nuri Güntekin', 'creationdate': '2018-06-07T15:24:58+00:00', 'creator': 'calibre 1.22.0 [http://calibre-ebook.com]', 'keywords': 'Roman, Türk Klasik, Cumhuriyet Dönemi', 'page': 100, 'page_label': '101', 'producer': 'calibre 1.22.0 [http://calibre-ebook.com]', 'source': 'calikusu.pdf', 'title': 'Çalıkuşu', 'total_pages': 298}, page_content='sonra, bir çayır, bir ağaçlık ve ikinci bir köprüden geçtim. Daha da dolaşacaktım, fakat kaybolmaktan\\ndaha büyük bir tehlike baş gösterdi. Babayani çarşafıma, sımsıkı kapalı peçeme rağmen kılıksız\\nbirtakım erkekler peşime takılmaya, söz atmaya başlamışlardı.\\nHacı Kalfa’nın nasihatlerini hatırlayarak korktum ve tekrar tersyüzü geri döndüm.\\nMaarif Müdürlüğü’nde kuşaklı başkâtibin: “Hâlâ İstanbul’dan bir ses seda yok, hemşire hanım”\\ncevabıyla karşılaşacağıma emindim. Fakat, sokağa çıkmışken bir kere oraya da uğramak zaruriydi.\\nMüdürün hademesi merdivende beni görünce: “İsabet ki, geldin hocanım,” dedi. Ben de seni\\narıyordum, birazdan otele gelecektim.”\\nBey dediği Maarif Müdürü idi. Hayret! O, yine kırmızı çuha kaplı yazıhanesinin önünde, ebedi\\nyorgunluğunu dinlendirir gibi elini, kolunu salıvermiş, yakasını gevşetmiş, gözleri yarı kapalı\\ndüşünüyordu.\\nBeni görünce, esnedi, gerindi ve tane tane söylemeye başladı:'), Document(id='6abfa569-2006-4450-a0ac-acb90e2e7a86', metadata={'author': 'Reşat Nuri Güntekin', 'creationdate': '2018-06-07T15:24:58+00:00', 'creator': 'calibre 1.22.0 [http://calibre-ebook.com]', 'keywords': 'Roman, Türk Klasik, Cumhuriyet Dönemi', 'page': 235, 'page_label': '236', 'producer': 'calibre 1.22.0 [http://calibre-ebook.com]', 'source': 'calikusu.pdf', 'title': 'Çalıkuşu', 'total_pages': 298}, page_content='saatte her şeyi açık açık konuşmamalı? Mahalle namına kaymakama bir heyet gitmiş. Benim evimde\\nailemden, akrabamdan olmayan bir genç kızla yaşamamın örfe ve şeriata aykırı göründüğünü\\nsöylemiş. Hatta hatta senin başka bir memlekete gönderilmeni istemiş. Herkesin kabahatini açık açık\\nyüzüne söyleyen bir “kör kadı” olduğum için beni zaten kimse sevmez. Bu vesile ile niçin bana da bir\\ndarbe indirmemeli, değil mi? Hülasa, Feridecik, senin ne benimle yaşamana ne kendi kendine\\nyaşamana imkân var. Haksız şüpheler hayatını zehirleyecek, bu melun leke, nereye gitsen seni takip\\nedecek. Mazindeki şüpheli bir nokta, her çapkına, her serseriye seni tahkir etmek hakkını verecek. Ne\\nyapacağız Feride? Nasıl hareket edeceğiz? Seni nasıl müdafaa edeceğiz?\\nÖlmeye mahkûm bir hasta mazlumluğuyla yüzüne baktım. İçimdeki derin ümitsizliğe rağmen hâlâ\\ngülümseyerek:\\n-Nihayet siz de teslim ediyorsunuz ki, ölümü düşünmekte hakkım varmış. Şu güneşe, şu ağaçlara,'), Document(id='ae9de19c-febf-4912-b7ac-eb4c7748202f', metadata={'author': 'Reşat Nuri Güntekin', 'creationdate': '2018-06-07T15:24:58+00:00', 'creator': 'calibre 1.22.0 [http://calibre-ebook.com]', 'keywords': 'Roman, Türk Klasik, Cumhuriyet Dönemi', 'page': 65, 'page_label': '66', 'producer': 'calibre 1.22.0 [http://calibre-ebook.com]', 'source': 'calikusu.pdf', 'title': 'Çalıkuşu', 'total_pages': 298}, page_content='eksikleri tamamlamak için çarşı pazar dolaşıyor, kimi dikişle uğraşıyordu. Ben, şaşkınlığımın içinde\\nişi serseriliğe vurmuştum. Bir işe yaramak şöyle dursun, başkalarının işlerine bile engel olacak türlü\\nmünasebetsizlikler yapıyordum. Son parti bana, bir delilik ârız olmuştu. Eskiden olduğu gibi, misafir\\nçocuklarını peşime takıyor, köşkün altını üstüne getiriyordum.\\nHer yer gibi, mutfakta da tamir ve boya vardı. Bunun için yeni aşçı, kabını kaçağını arka bahçede\\nkurduğu bir çadıra nakletmiş, açıkta yemek pişirmeye başlamıştı.\\nBir akşamüstü onun, çadırın önünde tatlı kızartığını gördüm ve derhal aklıma bir şeytanlık geldi:\\n-Çocuklar, dedim. Siz şu kümeslerin arkasına saklanınız. Hiç sesinizi çıkarmayın. Ben size tatlı\\nçalıp getireceğim.\\nAradan beş dakika bile geçmeden elimde dolu bir tabakla küçük arkadaşlarımın yanına\\ndönüyordum.\\nEn iyisi, çocuklara paylarını dağıttıktan sonra, herbirini bahçenin bir köşesine dağıtmak ve tabağı'), Document(id='0c1223a7-c47e-418b-8b71-2e4bc194a39f', metadata={'author': 'Reşat Nuri Güntekin', 'creationdate': '2018-06-07T15:24:58+00:00', 'creator': 'calibre 1.22.0 [http://calibre-ebook.com]', 'keywords': 'Roman, Türk Klasik, Cumhuriyet Dönemi', 'page': 93, 'page_label': '94', 'producer': 'calibre 1.22.0 [http://calibre-ebook.com]', 'source': 'calikusu.pdf', 'title': 'Çalıkuşu', 'total_pages': 298}, page_content='bayılmaya, ağlamaya başladı. Ders vakti galiba gelmişti. Hocalar defterlerini, kitaplarını, dikiş\\nsepetlerini alarak birer birer dağılmaya başladılar.\\nMüdire Hanım, “Sizi odamda bekliyorum, kızım,” diye kapıdan çıktı...\\nBiraz sonra, odada beni müdafaa eden arkadaşla yalnız kalmıştım. Ona teşekkür etmeye lüzum\\ngörerek:\\n-Vah vah!.. Siz de benim için üzüldünüz, dedim.\\nO, ehemmiyeti yok, demek ister gibi omuz silkti ve güldü:\\n-Mahsus yaptım. Böylelerine ara sıra gözdağı verilmezse olmaz, insanın başına çıkmaya kalkarlar\\nsonra. Ne yaparsınız. Dersten sonra görüşürüz, olmaz mı?\\nMüdirenin kapısına kadar gittiğim halde içeri girmeyi bir türlü canım istemedi. Tekrar bu bahsi\\ntazelemek beni iğrendiriyordu. Kollarım düşmüş, çantam ağırlaşmıştı, kimseye görünmeden\\nmektepten çıktım, otele döndüm.\\nHacı Kalfa, beni görür görmez, meyus bir tavırla kollarını kaldırdı:'), Document(id='9904d0e4-11ec-4bc4-9e88-455283be44f6', metadata={'author': 'Reşat Nuri Güntekin', 'creationdate': '2018-06-07T15:24:58+00:00', 'creator': 'calibre 1.22.0 [http://calibre-ebook.com]', 'keywords': 'Roman, Türk Klasik, Cumhuriyet Dönemi', 'page': 133, 'page_label': '134', 'producer': 'calibre 1.22.0 [http://calibre-ebook.com]', 'source': 'calikusu.pdf', 'title': 'Çalıkuşu', 'total_pages': 298}, page_content='-Nemelâzım abacığım, ben senin gibi güzel değilim ki... Başını daha ziyade yaklaştırıyor,\\nboynumun altından geçirdiği küçük eliyle, yine yüzümü okşuyordu:\\n-Abacığım sen kadife gibisin. Senin yüzünde insan ayna gibi kendini görüyor, diyordu.\\nBu münasebetsiz çocuğun saçmalıklarına gülüyor, o kadar emekle düzelttiğim saçlarını\\nkarıştırıyordum. Fakat ne saklayayım, defterimi benden başkası okuyacak değil ya, kendimi güzel\\nzannettiğimden çok güzel buluyor: “Feride, sen kendini bilmiyorsun. Sende, kimseye benzemeyen\\nbaşka bir şey var!” diyenlere hak verecek gibi oluyordum.\\nNeler söylüyorum? Ah, bu küçük kız! Ben, onun aklı başında bir kız haline getirmeye çalışırken o,\\nbeni kendi gibi koket yapacak.\\nZeyniler, 29 Ocak\\nDefterime, bir aydan beri el sürmemiştim. Yazı yazmaktan, herhalde daha fazla işlerim vardı. Hem\\nde mesut günlerin yazılacak nesi olur ki?\\nBir aydan beri derin bir gönül sükûnu içinde yaşıyordum. Yazık ki devam etmedi. İki gün evvel'), Document(id='e32cdbdf-0838-403e-8276-6f4c8ecc8593', metadata={'author': 'Reşat Nuri Güntekin', 'creationdate': '2018-06-07T15:24:58+00:00', 'creator': 'calibre 1.22.0 [http://calibre-ebook.com]', 'keywords': 'Roman, Türk Klasik, Cumhuriyet Dönemi', 'page': 163, 'page_label': '164', 'producer': 'calibre 1.22.0 [http://calibre-ebook.com]', 'source': 'calikusu.pdf', 'title': 'Çalıkuşu', 'total_pages': 298}, page_content='-Haydi, ne bekliyorsun?\\n-Niçin, Muavin Hanım, niçin?\\nBu “niçin” sözünde, bu küçük kelimede meyus bir isyan vardı. Muavin, sert bir hareketle elini\\nuzattı, kızın bileğini hırpalayarak mektubu kaptı.\\n-Haydi, şimdi yerine git!\\nŞehnaz Hanım, zarfın üzerine göz gezdirirken hafifçe kaşlarını çatıyordu. Fakat, çabucak kendini\\ntopladı. Derin sükûnete rağmen heyecan içinde olduğu hissedilen sınıfa hitâb ile;\\n-Mektup, Cemile’nin Suriye’deki biraderinden... Yalnız hemen bana itaat etmediği için yarına\\nkadar ona vermeyeceğim, dedi.\\nTalebeler, tekrar başlarını kitaplarının üzerine eğdiler. Muavin ile beraber dışarı çıkarken sınıfa\\nbir göz gezdirdim. Arka sıralarda birkaç genç kız, baş başa vermiş, bir şeyler fısıldaşıyorlardı.\\nCemile’ye gelince, başını sıranın üstüne saklamış, omuzları hafif sarsıntılarla titriyordu. Koridora\\ngiderken muavine:\\n-Cezanız pek ağır oldu, dedim. Yarına kadar nasıl bekleyecek, kim bilir, ne kadar sabırsızlık\\niçindedir?'), Document(id='971cdcfa-7efa-4ac9-bc5b-5fec3d58454b', metadata={'author': 'Reşat Nuri Güntekin', 'creationdate': '2018-06-07T15:24:58+00:00', 'creator': 'calibre 1.22.0 [http://calibre-ebook.com]', 'keywords': 'Roman, Türk Klasik, Cumhuriyet Dönemi', 'page': 147, 'page_label': '148', 'producer': 'calibre 1.22.0 [http://calibre-ebook.com]', 'source': 'calikusu.pdf', 'title': 'Çalıkuşu', 'total_pages': 298}, page_content='edemeyerek söylenmeye başladı:\\n-Nerede o kadın? Hay Allah, hem adamın iki ayağını bir pabuca sokar, hem kaçar.\\n-Darılma baba, buradayım. Gireyim mi?\\n-Haydi, gir bakalım, senin gönlün olsun. Müdür, başı açık, dudağının ucunda kocaman bir puro ile\\nmakamında oturuyordu, köşedeki bir koltuğa gömülmüş yaşlı bir zata küçücük vücudundan\\numulmayacak kadar çatlak, cüretli bir sesle bir şeyler söylüyordu:\\n-Efendim, ne memleket, ne memleket! Dünyanın israfını yaparlar da kendilerine bir kartvizit\\nbastırmazlar. Seksen kişi sizi görmek istediğine dair kapıdan hademe ile haber gönderir. Hademe\\ndoğru dürüst isimlerini söyleyemez, bir keşmekeştir gider. Ben, idarede Deli Petro sistemine\\ntaraftarım. Memurları yalnız resmi hayatlarında değil, hususi hayatlarında da takip etmeli; yedikleri,\\niçtikleri şeye, oturdukları, gezdikleri yere, elbiselerine müdahale etmeli. Gelir gelmez mekteplere bir\\ntamim gönderdim. Asgari iki günde bir tıraş olmayacak, ütüsüz pantolon, yakasız gömlek giyecek'), Document(id='d0e796f9-d45c-464f-988e-ba3a243dc11c', metadata={'author': 'Reşat Nuri Güntekin', 'creationdate': '2018-06-07T15:24:58+00:00', 'creator': 'calibre 1.22.0 [http://calibre-ebook.com]', 'keywords': 'Roman, Türk Klasik, Cumhuriyet Dönemi', 'page': 89, 'page_label': '90', 'producer': 'calibre 1.22.0 [http://calibre-ebook.com]', 'source': 'calikusu.pdf', 'title': 'Çalıkuşu', 'total_pages': 298}, page_content='yaptığım seyahatin zevki hâlâ içimdedir. Vapur, vapurdaki insanlar, hatta Hüseyin, unutulmuş, büyük\\nbir denizi uçarak geçen bir kuşun hayalinde ne kadar kalması mümkünse, bende de aşağı yukarı ona\\nbenzer bir şey kalmıştır. Her tarafı akıcı parıltılarla dolu bir mavi boşluk içinde uçmak sarhoşluğu.\\nDenizin bendeki bu çılgın tesirine rağmen, güvertede kalmaya tahammül edemedim, vapur\\nSarayburnu’nu dönerken, kamarama indim. Şahap Efendi’nin getirdiği kutu, bavulumun üzerinde\\nduruyordu. Ne olduğunu merak ederek açtım. Bir kutu fondan... Benim dünyada en delicesine\\nsevdiğim şey.\\nKüçük kâtibin hediyelerinden birini dudaklarıma götürdüm. Fakat birdenbire gözlerimden yaşlar\\nboşandı. Niçin böyle ağlıyordum, bilmiyorum! Kendi kendime söz anlatmak istedikçe gözyaşlarına\\nartıyor, göğsümü tıkıyordu. Sebepsiz ıstırabım bu biçare şekerden geliyormuş gibi, gayri ihtiyarı,\\nkutuyu yakaladım, kamaranın minimini penceresinden denize fırlattım.'), Document(id='dbbe95c0-df14-4b6d-8964-ef0d06be3563', metadata={'author': 'Reşat Nuri Güntekin', 'creationdate': '2018-06-07T15:24:58+00:00', 'creator': 'calibre 1.22.0 [http://calibre-ebook.com]', 'keywords': 'Roman, Türk Klasik, Cumhuriyet Dönemi', 'page': 170, 'page_label': '171', 'producer': 'calibre 1.22.0 [http://calibre-ebook.com]', 'source': 'calikusu.pdf', 'title': 'Çalıkuşu', 'total_pages': 298}, page_content='-Ah Feride Hanım, Sizinle ne güzel iki arkadaş olabilirdik. Fakat nasıl anlatayım, siz o kadar\\nneşeli, iyi, munis bir kız olduğunuz halde, yaşamak zevkini alamamışsınız, diyor.\\nYuvalarda yeni yavruların yumurtadan çıkma zamanında nasıl neşeli bir hayat uyanırsa, mektepte\\nde öyle bir hal var.\\nHele birkaç gün evvel şimşekle, gök gürültüleriyle başlayan şiddetli bir yağmur, sıcak ve sakin bir\\nyazın bana verdiği müzmin hüznü, anlaşılmaz yaşamak yorgunluğunu dağıttı. O kadar hafif, o kadar\\nneşeliyim ki...\\nB...17 Ekim\\nYağmurlar on günden beri devam ediyor, hem de ne şiddetle, ilk günlerde benim gibi sevinen,\\nsolgun benizlerine taze bir hayat rengi gelen son çiçekler harap oldular. Biçareler, bahçede durmadan\\nyağan yağmurun altında başlarını eğiyorlar: “Artık yeter!” der gibi büzülüp titreşiyorlar.\\nBu akşam, mektepten döndüğüm vakit benim de aşağı yukarı onlardan kalır yanım yoktu.\\nSırılsıklam olmuştum. Çarşafım vücuduma, peçem yüzüme yapışıyor, sokakta rast geldiğim insanları'), Document(id='d22b33bb-2fae-48a7-9d50-675d64c23914', metadata={'author': 'Reşat Nuri Güntekin', 'creationdate': '2018-06-07T15:24:58+00:00', 'creator': 'calibre 1.22.0 [http://calibre-ebook.com]', 'keywords': 'Roman, Türk Klasik, Cumhuriyet Dönemi', 'page': 78, 'page_label': '79', 'producer': 'calibre 1.22.0 [http://calibre-ebook.com]', 'source': 'calikusu.pdf', 'title': 'Çalıkuşu', 'total_pages': 298}, page_content='Teyzem zihnimde gittikçe dallanıp budaklanan mektubu aldıktan sonra, ağlamaktan başka bir şey\\nyapamayacaktı. Öteki alçak da ne de olsa insandı, izimi keşfetse bile, karşıma çıkmaya yüz, surat\\nbulamayacaktı.\\nO sabah, kalfanın sokak kapısını aralık buldum. Kendisi kınalı kaşlarının üstünde bir başörtüsü,\\nçıplak ayaklarında hamam nalınlarıyla evinin taşlarını yıkıyordu.\\nBir şey söylemeden kapının önünde durdum, onu seyretmeye başladım. Yüzüm sımsıkı kapalı\\nolduğu için beni tanıyamıyor, fersiz mavi gözleriyle şaşkın şakın bana bakıyordu.\\n-Bir şey mi istediniz hanım? dedi. Bir, iki kere yutkunduktan sonra:\\n-Dadı, beni tanımadın mı? diye sordum. Sesim, onun üzerinde anlaşılmaz bir tesir yaptı, ürkmüş\\ngibi geri çekilerek:\\n-Fesuphanallah, fesuphanallah! diye seslendi. Açsana yüzünü hanım?\\nValizimi ıslak taşların üstüne koyarak peçemi kaldırdım. Kalfa, boğuk bir feryat kopardı:\\n-Güzide, Güzidem gelmiş. Ah, evladım! Damarları çıkmış zayıf kollarıyla boynuma sarılıyor,'), Document(id='b828c1b4-01f1-4315-9484-88b70ca37aaa', metadata={'author': 'Reşat Nuri Güntekin', 'creationdate': '2018-06-07T15:24:58+00:00', 'creator': 'calibre 1.22.0 [http://calibre-ebook.com]', 'keywords': 'Roman, Türk Klasik, Cumhuriyet Dönemi', 'page': 99, 'page_label': '100', 'producer': 'calibre 1.22.0 [http://calibre-ebook.com]', 'source': 'calikusu.pdf', 'title': 'Çalıkuşu', 'total_pages': 298}, page_content='deftere özene bezene not ettim. Bundan sonra, bizim oburluğumuzla kim meşgul olmayı hatırına\\ngetirecek?\\nİnşallah işlerim yoluna girsin, benim de başımı sokacak küçücük bir evim olsun, kendim için bir\\nreçel dolabı yapacağım. Hacı Kalfa’nın evindeki gibi, raflarımı oymalı uçurtma kâğıtlarıyla\\nsüsleyeceğim; bu raflara yakutlar, kehribarlar, sedefler gibi parlayacak renk renk kavanozlar'), Document(id='642785ef-9eef-4331-9443-65f6fc79eb66', metadata={'author': 'Reşat Nuri Güntekin', 'creationdate': '2018-06-07T15:24:58+00:00', 'creator': 'calibre 1.22.0 [http://calibre-ebook.com]', 'keywords': 'Roman, Türk Klasik, Cumhuriyet Dönemi', 'page': 89, 'page_label': '90', 'producer': 'calibre 1.22.0 [http://calibre-ebook.com]', 'source': 'calikusu.pdf', 'title': 'Çalıkuşu', 'total_pages': 298}, page_content='Sadece, pencerenin karşısındaki yüksek dağ tepelerinde yer yer ince dumanlar tütüyordu.\\nGece yatarken pencereyi kapatmayı unutmuşum. Hafif bir sabah rüzgârı, karyolanın örtülerine,\\ndağınık saçlarıma vuran güneş ışıklarını sarı pullar gibi titretiyor, parça parça dağıtıyordu.\\nBeş günden beri bu küçük otel odasında, sinirlerim iyice bozulmuştu. Gece bir aralık uyanmış,\\nyanaklarımı, üzerine kırağı yağmış yapraklar gibi ıslak bulmuştum. Yastığım da öyleydi. Demek ki\\nuykumda ağlamıştım. Halbuki, şimdi bir parça güneş; neşemi hatta ümidimi yeniden canlandırıyor,\\nvücuduma mektep yatakhanesinde uyandığım bahar sabahlarının hafifliğini veriyordu.\\nBugünün bana, güzel bir haber getirmesine imkân yoktu. Artık, bir şeyden korkmuyordum. Sevinçle\\nyatağımdan fırladım, eski biçim küçük lavabonun önünde yıkanmaya başladım.\\nTemiz bir su birikintisine başlarını daldırıp çıkaran kuşlar gibi silkintilerle suları etrafa,\\nkarşımdaki aynanın camına sıçratıyordum.\\nKapı hafifçe vuruldu. Hacı Kalfa’nın sesi:'), Document(id='4923d7be-0200-4b43-9ced-f930f0836cd7', metadata={'author': 'Reşat Nuri Güntekin', 'creationdate': '2018-06-07T15:24:58+00:00', 'creator': 'calibre 1.22.0 [http://calibre-ebook.com]', 'keywords': 'Roman, Türk Klasik, Cumhuriyet Dönemi', 'page': 83, 'page_label': '84', 'producer': 'calibre 1.22.0 [http://calibre-ebook.com]', 'source': 'calikusu.pdf', 'title': 'Çalıkuşu', 'total_pages': 298}, page_content='Merdivenden inerken gözlerim etrafı kapkara görüyordu. Kolumu biri tuttu. O kadar dalgındım ki,\\naz kaldı bağıracaktım.\\n-İşin nasıl oldu kızım?\\nBu suali, yine o çini mavi gözlü hanım soruyordu. Öfke ve ümitsizlikten ağlamamak için dişlerimi\\nsıkarak halimi anlattım. Tatlı bir gülümseme ile:\\n-Tanıdığın olup olmadığını bunun için sormuştum, kızım, dedi. Mamafih, meyus olma. Yine bir\\nçaresi bulunur belki.\\nGel seni tanıdıklardan bir şube müdürüne götüreyim. Eksik olmasın, iyi adamcağızdır.\\nTekrar merdivenleri çıktık, ihtiyar hocanım, bu sefer beni, büyük bir kalem odasından buzlu bir\\ncamekânla ayrılmış, minimini bir hücreye soktu. Bugün, hakikaten şansım yoktu. Çünkü, orada da pek\\nümit vermeyen bir manzara ile karşılaştım. Sakalının bir tarafı siyah, bir tarafı adeta ağarmış bir\\nefendi, hiddetten ateş püskürüyor, karşısında benim biraz evvelki halime benzer bir vaziyette tir tir\\ntitreyen bir hademeyi dövecek hareketler yapıyordu.'), Document(id='bf9132d5-8ac0-4fa9-a45b-55e54067e816', metadata={'author': 'Reşat Nuri Güntekin', 'creationdate': '2018-06-07T15:24:58+00:00', 'creator': 'calibre 1.22.0 [http://calibre-ebook.com]', 'keywords': 'Roman, Türk Klasik, Cumhuriyet Dönemi', 'page': 101, 'page_label': '102', 'producer': 'calibre 1.22.0 [http://calibre-ebook.com]', 'source': 'calikusu.pdf', 'title': 'Çalıkuşu', 'total_pages': 298}, page_content='edilseniz de “istemem” diye ayak direyeceksiniz ya.\\nHava güzel, manzara güzel, yiyecek içecek ucuz, ahalisi iyi. Şöyle böyle İsviçre köyleri gibi bir\\nşey. insan, Allah’tan daha ne ister?\\nGözümün önüne güneşli yollar, bahçeler, dereler, ormanlar geliyor, yüreğim şiddetle çarpıyordu.\\nBununla beraber, birdenbire “evet” demeye cesaret edemedim. Hiç olmazsa bu işi Hacı Kalfa’ya\\nbir kere danışmalıydım.\\n-Şimdi müsaade buyurunuz, iki saat sonra gelir, cevabımı veririm efendim.\\nMüdür Bey biraz canlanır gibi oldu:\\n-Aman kızım, bu iş müstacel. Başka talipleri de var, elden kaçırırsan karışmam sonra.\\n-O halde, yalnız bir saat beyefendi, dedim.\\nMaarif Müdürü’nün yanından çıkınca, sofada ortağım Huriye Hanım’la burun buruna gelmeyeyim\\nmi? B.’de bizim ismimizi, iki ortaklar koyduklarını birkaç gün evvel, yine Hacı Kalfa’dan\\nöğrenmiştim. Bu kadın gözümü o kadar yıldırmıştı ki, yüzünü görünce korktum, görmezliğe geldim ve'), Document(id='bfe1434e-c767-49b4-9c43-a5ae0262664f', metadata={'author': 'Reşat Nuri Güntekin', 'creationdate': '2018-06-07T15:24:58+00:00', 'creator': 'calibre 1.22.0 [http://calibre-ebook.com]', 'keywords': 'Roman, Türk Klasik, Cumhuriyet Dönemi', 'page': 231, 'page_label': '232', 'producer': 'calibre 1.22.0 [http://calibre-ebook.com]', 'source': 'calikusu.pdf', 'title': 'Çalıkuşu', 'total_pages': 298}, page_content='“Kuşadası Maarif Encümeni Riyaset Âlisine,\\nHizmet-i maarifte devamıma ahval-i sıhhiyem müsait olmadığından, Kuşadası İnas Rüştiyesi\\nMüdürlüğü’nden affımı istirham ederim efendim.”\\n-Şimdi kızım, düşünmeden, bir şey sormadan imzanı at, o kâğıdı bana ver. Ellerin titriyor, Feride,\\nyüzüme bakmaya cesaret edemiyorsun. Daha iyi kızım, daha iyi. Çünkü sen, o temiz gözlerinle bana\\nbakarken ben şaşıracağım. Fevkalâde bir şeyler geçtiğini anladın, değil mi? Dinle beni Feride. Eğer\\nheyecan, teessür gösterirsen sözünü kesmek mecburiyetinde kalacağım. Halbuki her şeyi bilmen\\nlâzım. Feride, hayata karıştığın üç sene içinde insanın ne mal olduğunu anladın sanıyorsun değil mi?\\nNafile, şu altmış seneye yakın hayatımda ben bile anlayamamışım. Ben ki, dünyada şenaatin, rezaletin\\nbin türlüsüne tesadüf ettim; ben bu kadarını hâlâ ihtiyar kafama sığdıramıyorum. Biz seninle dünyanın\\nen temiz, en iyi iki dostuyuz değil mi? Aylarca senin hasta vücudunu kendi çocuğum gibi kollarımda')], 'answer': \"*Çalıkuşu*, Reşat Nuri Güntekin'in kaleme aldığı, genç bir öğretmen olan Feride'nin hayatını ve içsel yolculuğunu anlatan etkileyici bir romandır. Feride, güzelliği ve neşesiyle çevresindekileri etkileyen, ancak aşk hayatında hayal kırıklıkları yaşayan bir genç kadındır. Nişanlısı Kâmran'ın ihanetine uğradığını düşündüğünde, İstanbul'dan kaçar ve Anadolu'nun çeşitli köylerinde öğretmenlik yapmaya başlar. \\n\\nBu süreçte Feride, hem Anadolu'nun zorluklarıyla hem de kendi içsel çatışmalarıyla yüzleşir. Kendi ayakları üzerinde durmayı öğrenirken, karşılaştığı zorluklar ve insanlarla olan ilişkileri sayesinde olgunlaşır. Roman, Feride'nin içsel gücünü, bağımsızlığını ve idealizmini keşfetmesini anlatırken, aynı zamanda dönemin toplumsal yapısını ve Anadolu'nun gerçeklerini de gözler önüne serer. \\n\\nFeride'nin hikayesi, aşk, ihanet, yalnızlık ve kendini bulma temaları etrafında şekillenir. Sonunda, geçmişiyle yüzleşip, gerçekleri öğrendiğinde, hayatına yeni bir yön vermeye karar verir. *Çalıkuşu*, Feride'nin cesareti ve kararlılığıyla okuyuculara ilham veren, duygusal ve düşündürücü bir yolculuktur. 🌿📚\"}\n"
     ]
    }
   ],
   "source": [
    "print(response)"
   ]
  },
  {
   "cell_type": "code",
   "execution_count": 45,
   "metadata": {},
   "outputs": [
    {
     "name": "stdout",
     "output_type": "stream",
     "text": [
      "*Çalıkuşu*, Reşat Nuri Güntekin'in kaleme aldığı, genç bir öğretmen olan Feride'nin hayatını ve içsel yolculuğunu anlatan etkileyici bir romandır. Feride, güzelliği ve neşesiyle çevresindekileri etkileyen, ancak aşk hayatında hayal kırıklıkları yaşayan bir genç kadındır. Nişanlısı Kâmran'ın ihanetine uğradığını düşündüğünde, İstanbul'dan kaçar ve Anadolu'nun çeşitli köylerinde öğretmenlik yapmaya başlar. \n",
      "\n",
      "Bu süreçte Feride, hem Anadolu'nun zorluklarıyla hem de kendi içsel çatışmalarıyla yüzleşir. Kendi ayakları üzerinde durmayı öğrenirken, karşılaştığı zorluklar ve insanlarla olan ilişkileri sayesinde olgunlaşır. Roman, Feride'nin içsel gücünü, bağımsızlığını ve idealizmini keşfetmesini anlatırken, aynı zamanda dönemin toplumsal yapısını ve Anadolu'nun gerçeklerini de gözler önüne serer. \n",
      "\n",
      "Feride'nin hikayesi, aşk, ihanet, yalnızlık ve kendini bulma temaları etrafında şekillenir. Sonunda, geçmişiyle yüzleşip, gerçekleri öğrendiğinde, hayatına yeni bir yön vermeye karar verir. *Çalıkuşu*, Feride'nin cesareti ve kararlılığıyla okuyuculara ilham veren, duygusal ve düşündürücü bir yolculuktur. 🌿📚\n"
     ]
    }
   ],
   "source": [
    "print(response[\"answer\"])"
   ]
  }
 ],
 "metadata": {
  "kernelspec": {
   "display_name": "env_langchain",
   "language": "python",
   "name": "python3"
  },
  "language_info": {
   "codemirror_mode": {
    "name": "ipython",
    "version": 3
   },
   "file_extension": ".py",
   "mimetype": "text/x-python",
   "name": "python",
   "nbconvert_exporter": "python",
   "pygments_lexer": "ipython3",
   "version": "3.10.16"
  }
 },
 "nbformat": 4,
 "nbformat_minor": 2
}
